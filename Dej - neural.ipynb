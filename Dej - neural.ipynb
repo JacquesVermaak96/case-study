{
 "cells": [
  {
   "cell_type": "code",
   "execution_count": 698,
   "metadata": {},
   "outputs": [],
   "source": [
    "##import from the different librabry \n",
    "from __future__ import absolute_import, division, print_function\n",
    "\n",
    "# TensorFlow and tf.keras\n",
    "import tensorflow as tf\n",
    "from tensorflow import keras\n",
    "\n",
    "# \"normal\" libraries\n",
    "import numpy as np\n",
    "import pandas as pd\n",
    "import matplotlib.pyplot as plt\n",
    "import keras\n",
    "import matplotlib.pyplot as plt\n",
    "from tensorflow.keras.models import Sequential\n",
    "from tensorflow.keras.layers import Dense\n",
    "from sklearn.metrics import auc\n",
    "from sklearn.preprocessing import MinMaxScaler\n",
    "from sklearn.metrics import precision_recall_curve\n",
    "from sklearn.utils.class_weight import compute_class_weight\n",
    "from imblearn.over_sampling import SMOTE\n",
    "\n",
    "#just thr train/val split from sklearn\n",
    "from sklearn.model_selection import train_test_split\n",
    "from sklearn.metrics import confusion_matrix, roc_auc_score, roc_curve, classification_report, precision_score, recall_score, f1_score, accuracy_score"
   ]
  },
  {
   "cell_type": "code",
   "execution_count": 699,
   "metadata": {},
   "outputs": [],
   "source": [
    "# Load the dataset\n",
    "data = pd.read_excel('cleaned data.xlsx')\n",
    "\n",
    "# Save as dataframe\n",
    "data = pd.DataFrame(data)"
   ]
  },
  {
   "cell_type": "code",
   "execution_count": 700,
   "metadata": {},
   "outputs": [],
   "source": [
    "# create X (features) and y (response)\n",
    "X_data = data.drop(['Pno', 'Take-up ind'], axis = 1)\n",
    "y_data = data['Take-up ind']"
   ]
  },
  {
   "cell_type": "code",
   "execution_count": 701,
   "metadata": {},
   "outputs": [],
   "source": [
    "# Initialize the MinMaxScaler\n",
    "scaler = MinMaxScaler()\n",
    "\n",
    "# Fit and transform the data\n",
    "X_data = pd.DataFrame(scaler.fit_transform(X_data), columns=X_data.columns)"
   ]
  },
  {
   "cell_type": "code",
   "execution_count": 702,
   "metadata": {},
   "outputs": [],
   "source": [
    "# all my variables as seen as floats rather than strings or integers\n",
    "X_data = X_data.astype(np.float32).values\n",
    "y_data = y_data.astype(np.float32).values"
   ]
  },
  {
   "cell_type": "code",
   "execution_count": 707,
   "metadata": {},
   "outputs": [],
   "source": [
    "# split into train and test\n",
    "X_train, X_test, y_train, y_test = train_test_split(X_data, y_data, train_size=0.8, random_state=7, stratify=y_data)"
   ]
  },
  {
   "cell_type": "code",
   "execution_count": 709,
   "metadata": {},
   "outputs": [
    {
     "name": "stdout",
     "output_type": "stream",
     "text": [
      "(875, 25)\n",
      "(219, 25)\n",
      "(875,)\n",
      "(219,)\n"
     ]
    }
   ],
   "source": [
    "print(X_train.shape)\n",
    "print(X_test.shape)\n",
    "print(y_train.shape)\n",
    "print(y_test.shape)"
   ]
  },
  {
   "cell_type": "code",
   "execution_count": 644,
   "metadata": {},
   "outputs": [],
   "source": [
    "def unique_value_counts(array):\n",
    "    array = np.array(array)  # Convert to numpy array if not already\n",
    "    unique, counts = np.unique(array, return_counts=True)\n",
    "    return dict(zip(unique, counts))"
   ]
  },
  {
   "cell_type": "code",
   "execution_count": 666,
   "metadata": {},
   "outputs": [],
   "source": [
    "def calculate_metrics(y_true, y_pred, y_prob=None, metrics=['precision', 'recall', 'f1', 'accuracy', 'auc']):\n",
    "    # Compute the confusion matrix\n",
    "    cm = confusion_matrix(y_true, y_pred)\n",
    "    \n",
    "    TP = cm[1, 1]\n",
    "    FP = cm[0, 1]\n",
    "    TN = cm[0, 0]\n",
    "    FN = cm[1, 0]\n",
    "    \n",
    "    results = {}\n",
    "    \n",
    "    # Calculate precision\n",
    "    if 'precision' in metrics:\n",
    "        results['precision'] = round( TP / (TP + FP), 4) if (TP + FP) > 0 else 0\n",
    "    \n",
    "    # Calculate recall\n",
    "    if 'recall' in metrics:\n",
    "        results['recall'] = round( TP / (TP + FN), 4) if (TP + FN) > 0 else 0\n",
    "    \n",
    "    # Calculate F1 score\n",
    "    if 'f1' in metrics:\n",
    "        results['f1'] = round( 2 * (TP / (2 * TP + FP + FN)), 4) if (2 * TP + FP + FN) > 0 else 0\n",
    "    \n",
    "    # Calculate accuracy\n",
    "    if 'accuracy' in metrics:\n",
    "        results['accuracy'] = round( (TP + TN) / (TP + TN + FP + FN), 4)\n",
    "    \n",
    "    # Calculate AUC\n",
    "    if 'auc' in metrics and y_prob is not None:\n",
    "        # Note: AUC requires probabilities, not class labels.\n",
    "        results['auc'] = round( roc_auc_score(y_true, y_prob), 4)\n",
    "    \n",
    "    return results\n"
   ]
  },
  {
   "cell_type": "code",
   "execution_count": 646,
   "metadata": {},
   "outputs": [
    {
     "data": {
      "text/plain": [
       "array([0, 1, 1, 0, 0, 0, 0, 0, 0, 0, 0, 1, 0, 0, 0, 0, 0, 0, 1, 0, 1, 0,\n",
       "       0, 0, 0, 0, 0, 0, 0, 0, 0, 0, 1, 0, 1, 0, 0, 0, 1, 0, 0, 0, 0, 0,\n",
       "       0, 0, 0, 0, 1, 0, 0, 0, 0, 0, 0, 0, 0, 0, 0, 1, 0, 0, 0, 0, 0, 0,\n",
       "       0, 0, 0, 0, 0, 0, 0, 0, 0, 0, 1, 1, 0, 0, 0, 0, 0, 0, 0, 0, 0, 0,\n",
       "       0, 0, 1, 0, 0, 0, 0, 0, 0, 0, 0, 0, 0, 0, 0, 0, 0, 0, 0, 0, 0, 0,\n",
       "       0, 0, 0, 0, 0, 0, 0, 0, 0, 1, 0, 0, 0, 0, 0, 1, 0, 0, 0, 0, 0, 0,\n",
       "       0, 0, 0, 0, 0, 0, 0, 0, 0, 0, 0, 0, 0, 0, 0, 0, 1, 0, 0, 0, 0, 0,\n",
       "       0, 0, 0, 0, 0, 0, 0, 1, 0, 0, 0, 1, 0, 0, 0, 0, 0, 0, 1, 0, 0, 1,\n",
       "       0, 0, 1, 0, 0, 0, 0, 0, 0, 0, 0, 0, 0, 0, 1, 0, 0, 0, 0, 0, 0, 0,\n",
       "       0, 0, 0, 0, 1, 0, 0, 0, 0, 0, 0, 0, 0, 0, 1, 0, 0, 0, 0, 0, 0])"
      ]
     },
     "execution_count": 646,
     "metadata": {},
     "output_type": "execute_result"
    }
   ],
   "source": [
    "array_random = np.random.choice([1, 0], size=219, p=[0.0951, 0.9049])\n",
    "array_random"
   ]
  },
  {
   "cell_type": "code",
   "execution_count": null,
   "metadata": {},
   "outputs": [],
   "source": []
  },
  {
   "cell_type": "code",
   "execution_count": null,
   "metadata": {},
   "outputs": [],
   "source": []
  },
  {
   "cell_type": "markdown",
   "metadata": {},
   "source": [
    "# Version 1"
   ]
  },
  {
   "cell_type": "code",
   "execution_count": 647,
   "metadata": {},
   "outputs": [],
   "source": [
    "# np.random.seed(42)\n",
    "# tf.random.set_seed(42)\n",
    "\n",
    "# Build\n",
    "model = keras.Sequential([\n",
    "    keras.layers.Input(shape=(25,)),                # Number of input features\n",
    "    keras.layers.Dense(20, activation='relu'),\n",
    "    keras.layers.Dense(16, activation='relu'),\n",
    "    keras.layers.Dense(1, activation='sigmoid')     # Single output unit for binary classification\n",
    "])\n",
    "\n",
    "\n",
    "# Compile\n",
    "model.compile(optimizer='adam',\n",
    "              loss='binary_crossentropy',\n",
    "              metrics=[tf.keras.metrics.AUC(), 'accuracy', 'Precision', 'Recall'])\n",
    "\n",
    "\n",
    "# Fit and train\n",
    "history = model.fit(X_train, y_train, epochs=100, batch_size=30, verbose=0, validation_split=0.2)\n"
   ]
  },
  {
   "cell_type": "code",
   "execution_count": 648,
   "metadata": {},
   "outputs": [],
   "source": [
    "# hist = pd.DataFrame(history.history)\n",
    "# hist['f1_score'] = 2 * (hist['Precision'] * hist['Recall']) / (hist['Precision'] + hist['Recall'])\n",
    "# hist['val_f1_score'] = 2 * (hist['val_Precision'] * hist['val_Recall']) / (hist['val_Precision'] + hist['val_Recall'])\n",
    "# hist['epoch'] = history.epoch\n",
    "# hist"
   ]
  },
  {
   "cell_type": "code",
   "execution_count": 667,
   "metadata": {},
   "outputs": [
    {
     "name": "stdout",
     "output_type": "stream",
     "text": [
      "\u001b[1m28/28\u001b[0m \u001b[32m━━━━━━━━━━━━━━━━━━━━\u001b[0m\u001b[37m\u001b[0m \u001b[1m0s\u001b[0m 504us/step\n",
      "{0: 577, 1: 298}\n",
      "{'precision': 0.1309, 'recall': 0.4588, 'f1': 0.2037, 'accuracy': 0.6514, 'auc': 0.585}\n"
     ]
    }
   ],
   "source": [
    "# Predict\n",
    "y_probs = model.predict(X_train)\n",
    "y_train_pred = (y_probs > 0.5).astype(int) # Apply threshold\n",
    "print(unique_value_counts(y_train_pred))\n",
    "\n",
    "# Metrics\n",
    "metrics = calculate_metrics(y_true=y_train, y_pred=y_train_pred, y_prob=y_probs,  metrics=['precision', 'recall', 'f1', 'accuracy', 'auc'])\n",
    "print(metrics)"
   ]
  },
  {
   "cell_type": "code",
   "execution_count": 668,
   "metadata": {},
   "outputs": [
    {
     "name": "stdout",
     "output_type": "stream",
     "text": [
      "\u001b[1m7/7\u001b[0m \u001b[32m━━━━━━━━━━━━━━━━━━━━\u001b[0m\u001b[37m\u001b[0m \u001b[1m0s\u001b[0m 758us/step\n",
      "{0: 143, 1: 76}\n",
      "{'precision': 0.1053, 'recall': 0.4211, 'f1': 0.1684, 'accuracy': 0.6393, 'auc': 0.6246}\n"
     ]
    }
   ],
   "source": [
    "# Predict\n",
    "y_probs = model.predict(X_test)\n",
    "y_test_pred = (y_probs > 0.5).astype(int) # Apply threshold\n",
    "print(unique_value_counts(y_test_pred))\n",
    "\n",
    "# Metrics\n",
    "metrics = calculate_metrics(y_true=y_test, y_pred=y_test_pred, y_prob=y_probs,  metrics=['precision', 'recall', 'f1', 'accuracy', 'auc'])\n",
    "print(metrics)"
   ]
  },
  {
   "cell_type": "code",
   "execution_count": 669,
   "metadata": {},
   "outputs": [
    {
     "data": {
      "image/png": "[encoded data removed]",
      "text/plain": [
       "<Figure size 640x480 with 1 Axes>"
      ]
     },
     "metadata": {},
     "output_type": "display_data"
    }
   ],
   "source": [
    "# Compute precision and recall values\n",
    "precision, recall, thresholds = precision_recall_curve(y_test, y_probs)\n",
    "\n",
    "# Plot the Precision-Recall curve\n",
    "plt.figure()\n",
    "plt.plot(recall, precision, marker='.')\n",
    "plt.xlabel('Recall')\n",
    "plt.ylabel('Precision')\n",
    "plt.title('Precision-Recall Curve')\n",
    "plt.grid(True)\n",
    "plt.show()"
   ]
  },
  {
   "cell_type": "code",
   "execution_count": null,
   "metadata": {},
   "outputs": [],
   "source": []
  },
  {
   "cell_type": "code",
   "execution_count": null,
   "metadata": {},
   "outputs": [],
   "source": []
  },
  {
   "cell_type": "markdown",
   "metadata": {},
   "source": [
    "# VERSION 2"
   ]
  },
  {
   "cell_type": "code",
   "execution_count": 672,
   "metadata": {},
   "outputs": [
    {
     "data": {
      "text/plain": [
       "{0: 0.5537974683544303, 1: 5.147058823529412}"
      ]
     },
     "execution_count": 672,
     "metadata": {},
     "output_type": "execute_result"
    }
   ],
   "source": [
    "# Calculate class weights\n",
    "class_weights = compute_class_weight(\n",
    "    class_weight='balanced', \n",
    "    classes=np.unique(y_train), \n",
    "    y=y_train\n",
    ")\n",
    "class_weight_dict = dict(enumerate(class_weights))\n",
    "class_weight_dict"
   ]
  },
  {
   "cell_type": "code",
   "execution_count": 673,
   "metadata": {},
   "outputs": [],
   "source": [
    "# Build\n",
    "model = keras.Sequential([\n",
    "    keras.layers.Input(shape=(25,)),                # Number of input features\n",
    "    keras.layers.Dense(20, activation='relu'),\n",
    "    keras.layers.Dense(16, activation='relu'),\n",
    "    keras.layers.Dense(1, activation='sigmoid')     # Single output unit for binary classification\n",
    "])\n",
    "\n",
    "\n",
    "# Compile\n",
    "model.compile(optimizer='adam',\n",
    "              loss='binary_crossentropy',\n",
    "              metrics=[tf.keras.metrics.AUC(), 'accuracy', 'Precision', 'Recall'])\n",
    "\n",
    "\n",
    "# Fit and train\n",
    "history = model.fit(X_train, y_train, epochs=100, batch_size=30, verbose=0, validation_split=0.2, class_weight=class_weight_dict)"
   ]
  },
  {
   "cell_type": "code",
   "execution_count": 674,
   "metadata": {},
   "outputs": [
    {
     "name": "stdout",
     "output_type": "stream",
     "text": [
      "\u001b[1m28/28\u001b[0m \u001b[32m━━━━━━━━━━━━━━━━━━━━\u001b[0m\u001b[37m\u001b[0m \u001b[1m0s\u001b[0m 3ms/step\n",
      "{0: 647, 1: 228}\n",
      "{'precision': 0.1404, 'recall': 0.3765, 'f1': 0.2045, 'accuracy': 0.7154, 'auc': 0.5955}\n"
     ]
    }
   ],
   "source": [
    "# Predict\n",
    "y_probs = model.predict(X_train)\n",
    "y_train_pred = (y_probs > 0.5).astype(int) # Apply threshold\n",
    "print(unique_value_counts(y_train_pred))\n",
    "\n",
    "# Metrics\n",
    "metrics = calculate_metrics(y_true=y_train, y_pred=y_train_pred, y_prob=y_probs,  metrics=['precision', 'recall', 'f1', 'accuracy', 'auc'])\n",
    "print(metrics)"
   ]
  },
  {
   "cell_type": "code",
   "execution_count": 675,
   "metadata": {},
   "outputs": [
    {
     "name": "stdout",
     "output_type": "stream",
     "text": [
      "\u001b[1m7/7\u001b[0m \u001b[32m━━━━━━━━━━━━━━━━━━━━\u001b[0m\u001b[37m\u001b[0m \u001b[1m0s\u001b[0m 791us/step\n",
      "{0: 175, 1: 44}\n",
      "{'precision': 0.1364, 'recall': 0.3158, 'f1': 0.1905, 'accuracy': 0.7671, 'auc': 0.6105}\n"
     ]
    }
   ],
   "source": [
    "# Predict\n",
    "y_probs = model.predict(X_test)\n",
    "y_test_pred = (y_probs > 0.5).astype(int) # Apply threshold\n",
    "print(unique_value_counts(y_test_pred))\n",
    "\n",
    "# Metrics\n",
    "metrics = calculate_metrics(y_true=y_test, y_pred=y_test_pred, y_prob=y_probs,  metrics=['precision', 'recall', 'f1', 'accuracy', 'auc'])\n",
    "print(metrics)"
   ]
  },
  {
   "cell_type": "code",
   "execution_count": null,
   "metadata": {},
   "outputs": [],
   "source": []
  },
  {
   "cell_type": "markdown",
   "metadata": {},
   "source": [
    "# Version 3"
   ]
  },
  {
   "cell_type": "code",
   "execution_count": 679,
   "metadata": {},
   "outputs": [],
   "source": [
    "# Build\n",
    "model = keras.Sequential([\n",
    "    keras.layers.Input(shape=(25,)),                # Number of input features\n",
    "    keras.layers.Dense(30, activation='relu'),\n",
    "    keras.layers.Dense(100, activation='relu'),\n",
    "    keras.layers.Dense(30, activation='relu'),\n",
    "    keras.layers.Dense(1, activation='sigmoid')     # Single output unit for binary classification\n",
    "])\n",
    "\n",
    "\n",
    "# Compile\n",
    "model.compile(optimizer='adam',\n",
    "              loss='binary_crossentropy',\n",
    "              metrics=[tf.keras.metrics.AUC(), 'accuracy', 'Precision', 'Recall'])\n",
    "\n",
    "\n",
    "# Fit and train\n",
    "history = model.fit(X_train, y_train, epochs=100, batch_size=30, verbose=0, validation_split=0.2, class_weight=class_weight_dict)"
   ]
  },
  {
   "cell_type": "code",
   "execution_count": 680,
   "metadata": {},
   "outputs": [
    {
     "name": "stdout",
     "output_type": "stream",
     "text": [
      "\u001b[1m28/28\u001b[0m \u001b[32m━━━━━━━━━━━━━━━━━━━━\u001b[0m\u001b[37m\u001b[0m \u001b[1m0s\u001b[0m 2ms/step \n",
      "{0: 84, 1: 791}\n",
      "{'precision': 0.0986, 'recall': 0.9176, 'f1': 0.1781, 'accuracy': 0.1771, 'auc': 0.5064}\n"
     ]
    }
   ],
   "source": [
    "# Predict\n",
    "y_probs = model.predict(X_train)\n",
    "y_train_pred = (y_probs > 0.5).astype(int) # Apply threshold\n",
    "print(unique_value_counts(y_train_pred))\n",
    "\n",
    "# Metrics\n",
    "metrics = calculate_metrics(y_true=y_train, y_pred=y_train_pred, y_prob=y_probs,  metrics=['precision', 'recall', 'f1', 'accuracy', 'auc'])\n",
    "print(metrics)"
   ]
  },
  {
   "cell_type": "code",
   "execution_count": 681,
   "metadata": {},
   "outputs": [
    {
     "name": "stdout",
     "output_type": "stream",
     "text": [
      "\u001b[1m7/7\u001b[0m \u001b[32m━━━━━━━━━━━━━━━━━━━━\u001b[0m\u001b[37m\u001b[0m \u001b[1m0s\u001b[0m 7ms/step \n",
      "{0: 23, 1: 196}\n",
      "{'precision': 0.0867, 'recall': 0.8947, 'f1': 0.1581, 'accuracy': 0.1735, 'auc': 0.4983}\n"
     ]
    }
   ],
   "source": [
    "# Predict\n",
    "y_probs = model.predict(X_test)\n",
    "y_test_pred = (y_probs > 0.5).astype(int) # Apply threshold\n",
    "print(unique_value_counts(y_test_pred))\n",
    "\n",
    "# Metrics\n",
    "metrics = calculate_metrics(y_true=y_test, y_pred=y_test_pred, y_prob=y_probs,  metrics=['precision', 'recall', 'f1', 'accuracy', 'auc'])\n",
    "print(metrics)"
   ]
  },
  {
   "cell_type": "code",
   "execution_count": null,
   "metadata": {},
   "outputs": [],
   "source": []
  },
  {
   "cell_type": "markdown",
   "metadata": {},
   "source": [
    "# Version 4"
   ]
  },
  {
   "cell_type": "code",
   "execution_count": 685,
   "metadata": {},
   "outputs": [],
   "source": [
    "# Build\n",
    "model = keras.Sequential([\n",
    "    keras.layers.Input(shape=(25,)),                # Number of input features\n",
    "    keras.layers.Dense(10, activation='relu'),\n",
    "    keras.layers.Dense(15, activation='relu'),\n",
    "    keras.layers.Dense(10, activation='relu'),\n",
    "    keras.layers.Dense(1, activation='sigmoid')     # Single output unit for binary classification\n",
    "])\n",
    "\n",
    "\n",
    "# Compile\n",
    "model.compile(optimizer='adam',\n",
    "              loss='binary_crossentropy',\n",
    "              metrics=[tf.keras.metrics.AUC(), 'accuracy', 'Precision', 'Recall'])\n",
    "\n",
    "\n",
    "# Fit and train\n",
    "history = model.fit(X_train, y_train, epochs=100, batch_size=30, verbose=0, validation_split=0.2, class_weight=class_weight_dict)"
   ]
  },
  {
   "cell_type": "code",
   "execution_count": 686,
   "metadata": {},
   "outputs": [
    {
     "name": "stdout",
     "output_type": "stream",
     "text": [
      "\u001b[1m28/28\u001b[0m \u001b[32m━━━━━━━━━━━━━━━━━━━━\u001b[0m\u001b[37m\u001b[0m \u001b[1m0s\u001b[0m 2ms/step \n",
      "{0: 357, 1: 518}\n",
      "{'precision': 0.1158, 'recall': 0.7059, 'f1': 0.199, 'accuracy': 0.448, 'auc': 0.5738}\n"
     ]
    }
   ],
   "source": [
    "# Predict\n",
    "y_probs = model.predict(X_train)\n",
    "y_train_pred = (y_probs > 0.5).astype(int) # Apply threshold\n",
    "print(unique_value_counts(y_train_pred))\n",
    "\n",
    "# Metrics\n",
    "metrics = calculate_metrics(y_true=y_train, y_pred=y_train_pred, y_prob=y_probs,  metrics=['precision', 'recall', 'f1', 'accuracy', 'auc'])\n",
    "print(metrics)"
   ]
  },
  {
   "cell_type": "code",
   "execution_count": 687,
   "metadata": {},
   "outputs": [
    {
     "name": "stdout",
     "output_type": "stream",
     "text": [
      "\u001b[1m7/7\u001b[0m \u001b[32m━━━━━━━━━━━━━━━━━━━━\u001b[0m\u001b[37m\u001b[0m \u001b[1m0s\u001b[0m 724us/step\n",
      "{0: 93, 1: 126}\n",
      "{'precision': 0.119, 'recall': 0.7895, 'f1': 0.2069, 'accuracy': 0.4749, 'auc': 0.6534}\n"
     ]
    }
   ],
   "source": [
    "# Predict\n",
    "y_probs = model.predict(X_test)\n",
    "y_test_pred = (y_probs > 0.5).astype(int) # Apply threshold\n",
    "print(unique_value_counts(y_test_pred))\n",
    "\n",
    "# Metrics\n",
    "metrics = calculate_metrics(y_true=y_test, y_pred=y_test_pred, y_prob=y_probs,  metrics=['precision', 'recall', 'f1', 'accuracy', 'auc'])\n",
    "print(metrics)"
   ]
  },
  {
   "cell_type": "code",
   "execution_count": null,
   "metadata": {},
   "outputs": [],
   "source": []
  },
  {
   "cell_type": "markdown",
   "metadata": {},
   "source": [
    "# Version 5"
   ]
  },
  {
   "cell_type": "code",
   "execution_count": 711,
   "metadata": {},
   "outputs": [],
   "source": [
    "# Apply SMOTE to the training data\n",
    "smote = SMOTE(random_state=7)\n",
    "X_train_smote, y_train_smote = smote.fit_resample(X_train, y_train)"
   ]
  },
  {
   "cell_type": "code",
   "execution_count": 712,
   "metadata": {},
   "outputs": [
    {
     "data": {
      "text/plain": [
       "{0: 1.0, 1: 1.0}"
      ]
     },
     "execution_count": 712,
     "metadata": {},
     "output_type": "execute_result"
    }
   ],
   "source": [
    "# Calculate class weights\n",
    "class_weights = compute_class_weight(\n",
    "    class_weight='balanced', \n",
    "    classes=np.unique(y_train_smote), \n",
    "    y=y_train_smote\n",
    ")\n",
    "class_weight_dict = dict(enumerate(class_weights))\n",
    "class_weight_dict"
   ]
  },
  {
   "cell_type": "code",
   "execution_count": 715,
   "metadata": {},
   "outputs": [],
   "source": [
    "# Build\n",
    "model = keras.Sequential([\n",
    "    keras.layers.Input(shape=(25,)),                # Number of input features\n",
    "    keras.layers.Dense(10, activation='relu'),\n",
    "    keras.layers.Dense(15, activation='relu'),\n",
    "    keras.layers.Dense(10, activation='relu'),\n",
    "    keras.layers.Dense(1, activation='sigmoid')     # Single output unit for binary classification\n",
    "])\n",
    "\n",
    "\n",
    "# Compile\n",
    "model.compile(optimizer='adam',\n",
    "              loss='binary_crossentropy',\n",
    "              metrics=[tf.keras.metrics.AUC(), 'accuracy', 'Precision', 'Recall'])\n",
    "\n",
    "\n",
    "# Fit and train\n",
    "history = model.fit(X_train_smote, y_train_smote, epochs=100, batch_size=30, verbose=0, validation_split=0.2, class_weight=class_weight_dict)"
   ]
  },
  {
   "cell_type": "code",
   "execution_count": 716,
   "metadata": {},
   "outputs": [
    {
     "name": "stdout",
     "output_type": "stream",
     "text": [
      "\u001b[1m50/50\u001b[0m \u001b[32m━━━━━━━━━━━━━━━━━━━━\u001b[0m\u001b[37m\u001b[0m \u001b[1m0s\u001b[0m 2ms/step\n",
      "{0: 949, 1: 635}\n",
      "{'precision': 0.9213, 'recall': 0.7386, 'f1': 0.8199, 'accuracy': 0.8378, 'auc': 0.9462}\n"
     ]
    }
   ],
   "source": [
    "# Predict\n",
    "y_probs = model.predict(X_train_smote)\n",
    "y_train_pred = (y_probs > 0.5).astype(int) # Apply threshold\n",
    "print(unique_value_counts(y_train_pred))\n",
    "\n",
    "# Metrics\n",
    "metrics = calculate_metrics(y_true=y_train_smote, y_pred=y_train_pred, y_prob=y_probs,  metrics=['precision', 'recall', 'f1', 'accuracy', 'auc'])\n",
    "print(metrics)"
   ]
  },
  {
   "cell_type": "code",
   "execution_count": 717,
   "metadata": {},
   "outputs": [
    {
     "name": "stdout",
     "output_type": "stream",
     "text": [
      "\u001b[1m7/7\u001b[0m \u001b[32m━━━━━━━━━━━━━━━━━━━━\u001b[0m\u001b[37m\u001b[0m \u001b[1m0s\u001b[0m 799us/step\n",
      "{0: 188, 1: 31}\n",
      "{'precision': 0.3548, 'recall': 0.5238, 'f1': 0.4231, 'accuracy': 0.863, 'auc': 0.695}\n"
     ]
    }
   ],
   "source": [
    "# Predict\n",
    "y_probs = model.predict(X_test)\n",
    "y_test_pred = (y_probs > 0.5).astype(int) # Apply threshold\n",
    "print(unique_value_counts(y_test_pred))\n",
    "\n",
    "# Metrics\n",
    "metrics = calculate_metrics(y_true=y_test, y_pred=y_test_pred, y_prob=y_probs,  metrics=['precision', 'recall', 'f1', 'accuracy', 'auc'])\n",
    "print(metrics)"
   ]
  },
  {
   "cell_type": "code",
   "execution_count": null,
   "metadata": {},
   "outputs": [],
   "source": []
  },
  {
   "cell_type": "code",
   "execution_count": null,
   "metadata": {},
   "outputs": [],
   "source": []
  },
  {
   "cell_type": "code",
   "execution_count": null,
   "metadata": {},
   "outputs": [],
   "source": [
    "# # Evaluate the model\n",
    "# metrics = model.evaluate(X_train, y_train)\n",
    "\n",
    "# precision = metrics[2]\n",
    "# recall = metrics[3]\n",
    "# f1_score = 2 * (precision * recall) / (precision + recall)\n",
    "# auc_pr = roc_auc_score(y_train, y_train_pred)\n",
    "\n",
    "# # Print results\n",
    "# print(f\"Accuracy: {metrics[1]:.4f}\")\n",
    "# print(f\"Precision: {metrics[2]:.4f}\")\n",
    "# print(f\"Recall: {metrics[3]:.4f}\")\n",
    "# print(f\"F1 Score: {f1_score:.4f}\")\n",
    "# print(f'AUC-PR: {auc_pr:.4f}')\n",
    "\n",
    "# # Accuracy: 0.5000\n",
    "# # Precision: 0.9029\n",
    "# # Recall: 0.0000\n",
    "# # F1 Score: 0.0000\n",
    "# # AUC-PR: 0.5000\n",
    "\n",
    "# # Compute precision and recall values\n",
    "# precision, recall, thresholds = precision_recall_curve(y_train, probabilities)\n",
    "\n",
    "# # Plot the Precision-Recall curve\n",
    "# plt.figure()\n",
    "# plt.plot(recall, precision, marker='.')\n",
    "# plt.xlabel('Recall')\n",
    "# plt.ylabel('Precision')\n",
    "# plt.title('Precision-Recall Curve')\n",
    "# plt.grid(True)\n",
    "# plt.show()"
   ]
  }
 ],
 "metadata": {
  "kernelspec": {
   "display_name": "Python 3",
   "language": "python",
   "name": "python3"
  },
  "language_info": {
   "codemirror_mode": {
    "name": "ipython",
    "version": 3
   },
   "file_extension": ".py",
   "mimetype": "text/x-python",
   "name": "python",
   "nbconvert_exporter": "python",
   "pygments_lexer": "ipython3",
   "version": "3.10.11"
  }
 },
 "nbformat": 4,
 "nbformat_minor": 2
}
