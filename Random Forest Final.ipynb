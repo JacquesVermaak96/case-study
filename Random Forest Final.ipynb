{
  "cells": [
    {
      "cell_type": "code",
      "execution_count": 1,
      "metadata": {
        "colab": {
          "base_uri": "https://localhost:8080/"
        },
        "id": "6fXOfqzuePYy",
        "outputId": "e2e7b794-ee5f-491b-921a-27b390762df4"
      },
      "outputs": [
        {
          "output_type": "stream",
          "name": "stdout",
          "text": [
            "Requirement already satisfied: pydotplus in /usr/local/lib/python3.10/dist-packages (2.0.2)\n",
            "Requirement already satisfied: pyparsing>=2.0.1 in /usr/local/lib/python3.10/dist-packages (from pydotplus) (3.1.2)\n"
          ]
        }
      ],
      "source": [
        "pip install pydotplus"
      ]
    },
    {
      "cell_type": "code",
      "execution_count": null,
      "metadata": {
        "id": "grYj8418ePY1"
      },
      "outputs": [],
      "source": []
    },
    {
      "cell_type": "code",
      "execution_count": 2,
      "metadata": {
        "id": "MGPKDs1NePY1"
      },
      "outputs": [],
      "source": [
        "## TensorFlow\n",
        "import tensorflow as tf\n",
        "\n",
        "## Other libraries\n",
        "import numpy as np\n",
        "import pandas as pd\n",
        "import matplotlib.pyplot as plt\n",
        "from sklearn.metrics import (auc, precision_recall_curve, confusion_matrix,\n",
        "                             roc_auc_score, roc_curve, classification_report,\n",
        "                             precision_score, recall_score, f1_score, accuracy_score,\n",
        "                             roc_curve, auc, ConfusionMatrixDisplay)\n",
        "from sklearn.model_selection import (train_test_split, RandomizedSearchCV)\n",
        "from scipy.stats import randint\n",
        "from sklearn.preprocessing import MinMaxScaler\n",
        "from sklearn.utils.class_weight import compute_class_weight\n",
        "from imblearn.over_sampling import SMOTE\n",
        "from IPython.display import (SVG, Image)\n",
        "from sklearn.tree import export_graphviz\n",
        "from sklearn.linear_model import LogisticRegression\n",
        "import graphviz\n",
        "from sklearn.ensemble import RandomForestClassifier"
      ]
    },
    {
      "cell_type": "code",
      "execution_count": 3,
      "metadata": {
        "id": "L-Galsn3ePY4"
      },
      "outputs": [],
      "source": [
        "def unique_value_counts(array):\n",
        "    array = np.array(array)  # Convert to numpy array if not already\n",
        "    unique, counts = np.unique(array, return_counts=True)\n",
        "    return dict(zip(unique, counts))"
      ]
    },
    {
      "cell_type": "code",
      "execution_count": 4,
      "metadata": {
        "id": "zg7BQMLGePY5"
      },
      "outputs": [],
      "source": [
        "def calculate_metrics(y_true, y_pred, y_prob=None, metrics=['precision', 'recall', 'f1', 'accuracy', 'auc']):\n",
        "    # Compute the confusion matrix\n",
        "    cm = confusion_matrix(y_true, y_pred)\n",
        "\n",
        "    TP = cm[1, 1]\n",
        "    FP = cm[0, 1]\n",
        "    TN = cm[0, 0]\n",
        "    FN = cm[1, 0]\n",
        "\n",
        "    results = {}\n",
        "\n",
        "    # Calculate precision\n",
        "    if 'precision' in metrics:\n",
        "        results['precision'] = round( TP / (TP + FP), 4) if (TP + FP) > 0 else 0\n",
        "\n",
        "    # Calculate recall\n",
        "    if 'recall' in metrics:\n",
        "        results['recall'] = round( TP / (TP + FN), 4) if (TP + FN) > 0 else 0\n",
        "\n",
        "    # Calculate F1 score\n",
        "    if 'f1' in metrics:\n",
        "        results['f1'] = round( 2 * (TP / (2 * TP + FP + FN)), 4) if (2 * TP + FP + FN) > 0 else 0\n",
        "\n",
        "    # Calculate accuracy\n",
        "    if 'accuracy' in metrics:\n",
        "        results['accuracy'] = round( (TP + TN) / (TP + TN + FP + FN), 4)\n",
        "\n",
        "    # Calculate AUC\n",
        "    if 'auc' in metrics and y_prob is not None:\n",
        "        # Note: AUC requires probabilities, not class labels.\n",
        "        results['auc'] = round( roc_auc_score(y_true, y_prob), 4)\n",
        "\n",
        "    return results\n"
      ]
    },
    {
      "cell_type": "markdown",
      "metadata": {
        "id": "0EqIwoaEePY5"
      },
      "source": [
        "# Data set-up"
      ]
    },
    {
      "cell_type": "code",
      "execution_count": 5,
      "metadata": {
        "id": "aMIdu-nTePY8"
      },
      "outputs": [],
      "source": [
        "# Load the dataset\n",
        "data = pd.read_excel('cleaned data.xlsx')\n",
        "\n",
        "# Save as dataframe\n",
        "data = pd.DataFrame(data)"
      ]
    },
    {
      "cell_type": "code",
      "execution_count": 6,
      "metadata": {
        "id": "fZVv_PXYePY8"
      },
      "outputs": [],
      "source": [
        "# create X (features) and y (response)\n",
        "X = data.drop(['Pno', 'Take-up ind'], axis = 1)\n",
        "y = data['Take-up ind']\n",
        "\n",
        "# Initialize the MinMaxScaler\n",
        "scaler = MinMaxScaler()\n",
        "\n",
        "# Fit and transform the data\n",
        "X = pd.DataFrame(scaler.fit_transform(X), columns=X.columns)\n",
        "\n",
        "# all my variables as seen as floats rather than strings or integers\n",
        "X = X.astype(np.float32).values\n",
        "y = y.astype(np.float32).values"
      ]
    },
    {
      "cell_type": "code",
      "execution_count": 7,
      "metadata": {
        "id": "_LrhSiBaePY9"
      },
      "outputs": [],
      "source": [
        "# Get the test set (10%)\n",
        "x_train_val, x_test, y_train_val, y_test = train_test_split(\n",
        "    X, y, test_size=0.1, stratify=y, random_state=7)\n",
        "\n",
        "# Now training (70%) and validation sets (20%)\n",
        "x_train, x_val, y_train, y_val = train_test_split(\n",
        "    x_train_val, y_train_val, test_size=0.2222, stratify=y_train_val, random_state=7)\n",
        "\n",
        "# Apply SMOTE to the training data\n",
        "smote = SMOTE(random_state=7)\n",
        "x_train_smote, y_train_smote = smote.fit_resample(x_train, y_train)"
      ]
    },
    {
      "cell_type": "code",
      "execution_count": null,
      "metadata": {
        "id": "ANOHWPCuePY9"
      },
      "outputs": [],
      "source": []
    },
    {
      "cell_type": "markdown",
      "metadata": {
        "id": "ftpwVVgDePY-"
      },
      "source": [
        "# Version 1 - NO SMOTE"
      ]
    },
    {
      "cell_type": "code",
      "execution_count": 10,
      "metadata": {
        "id": "N1HR3tgAePY-",
        "outputId": "8bf0c249-bd54-4551-bdc2-a6d020f17330",
        "colab": {
          "base_uri": "https://localhost:8080/",
          "height": 74
        }
      },
      "outputs": [
        {
          "output_type": "execute_result",
          "data": {
            "text/plain": [
              "RandomForestClassifier(random_state=7)"
            ],
            "text/html": [
              "<style>#sk-container-id-2 {color: black;}#sk-container-id-2 pre{padding: 0;}#sk-container-id-2 div.sk-toggleable {background-color: white;}#sk-container-id-2 label.sk-toggleable__label {cursor: pointer;display: block;width: 100%;margin-bottom: 0;padding: 0.3em;box-sizing: border-box;text-align: center;}#sk-container-id-2 label.sk-toggleable__label-arrow:before {content: \"▸\";float: left;margin-right: 0.25em;color: #696969;}#sk-container-id-2 label.sk-toggleable__label-arrow:hover:before {color: black;}#sk-container-id-2 div.sk-estimator:hover label.sk-toggleable__label-arrow:before {color: black;}#sk-container-id-2 div.sk-toggleable__content {max-height: 0;max-width: 0;overflow: hidden;text-align: left;background-color: #f0f8ff;}#sk-container-id-2 div.sk-toggleable__content pre {margin: 0.2em;color: black;border-radius: 0.25em;background-color: #f0f8ff;}#sk-container-id-2 input.sk-toggleable__control:checked~div.sk-toggleable__content {max-height: 200px;max-width: 100%;overflow: auto;}#sk-container-id-2 input.sk-toggleable__control:checked~label.sk-toggleable__label-arrow:before {content: \"▾\";}#sk-container-id-2 div.sk-estimator input.sk-toggleable__control:checked~label.sk-toggleable__label {background-color: #d4ebff;}#sk-container-id-2 div.sk-label input.sk-toggleable__control:checked~label.sk-toggleable__label {background-color: #d4ebff;}#sk-container-id-2 input.sk-hidden--visually {border: 0;clip: rect(1px 1px 1px 1px);clip: rect(1px, 1px, 1px, 1px);height: 1px;margin: -1px;overflow: hidden;padding: 0;position: absolute;width: 1px;}#sk-container-id-2 div.sk-estimator {font-family: monospace;background-color: #f0f8ff;border: 1px dotted black;border-radius: 0.25em;box-sizing: border-box;margin-bottom: 0.5em;}#sk-container-id-2 div.sk-estimator:hover {background-color: #d4ebff;}#sk-container-id-2 div.sk-parallel-item::after {content: \"\";width: 100%;border-bottom: 1px solid gray;flex-grow: 1;}#sk-container-id-2 div.sk-label:hover label.sk-toggleable__label {background-color: #d4ebff;}#sk-container-id-2 div.sk-serial::before {content: \"\";position: absolute;border-left: 1px solid gray;box-sizing: border-box;top: 0;bottom: 0;left: 50%;z-index: 0;}#sk-container-id-2 div.sk-serial {display: flex;flex-direction: column;align-items: center;background-color: white;padding-right: 0.2em;padding-left: 0.2em;position: relative;}#sk-container-id-2 div.sk-item {position: relative;z-index: 1;}#sk-container-id-2 div.sk-parallel {display: flex;align-items: stretch;justify-content: center;background-color: white;position: relative;}#sk-container-id-2 div.sk-item::before, #sk-container-id-2 div.sk-parallel-item::before {content: \"\";position: absolute;border-left: 1px solid gray;box-sizing: border-box;top: 0;bottom: 0;left: 50%;z-index: -1;}#sk-container-id-2 div.sk-parallel-item {display: flex;flex-direction: column;z-index: 1;position: relative;background-color: white;}#sk-container-id-2 div.sk-parallel-item:first-child::after {align-self: flex-end;width: 50%;}#sk-container-id-2 div.sk-parallel-item:last-child::after {align-self: flex-start;width: 50%;}#sk-container-id-2 div.sk-parallel-item:only-child::after {width: 0;}#sk-container-id-2 div.sk-dashed-wrapped {border: 1px dashed gray;margin: 0 0.4em 0.5em 0.4em;box-sizing: border-box;padding-bottom: 0.4em;background-color: white;}#sk-container-id-2 div.sk-label label {font-family: monospace;font-weight: bold;display: inline-block;line-height: 1.2em;}#sk-container-id-2 div.sk-label-container {text-align: center;}#sk-container-id-2 div.sk-container {/* jupyter's `normalize.less` sets `[hidden] { display: none; }` but bootstrap.min.css set `[hidden] { display: none !important; }` so we also need the `!important` here to be able to override the default hidden behavior on the sphinx rendered scikit-learn.org. See: https://github.com/scikit-learn/scikit-learn/issues/21755 */display: inline-block !important;position: relative;}#sk-container-id-2 div.sk-text-repr-fallback {display: none;}</style><div id=\"sk-container-id-2\" class=\"sk-top-container\"><div class=\"sk-text-repr-fallback\"><pre>RandomForestClassifier(random_state=7)</pre><b>In a Jupyter environment, please rerun this cell to show the HTML representation or trust the notebook. <br />On GitHub, the HTML representation is unable to render, please try loading this page with nbviewer.org.</b></div><div class=\"sk-container\" hidden><div class=\"sk-item\"><div class=\"sk-estimator sk-toggleable\"><input class=\"sk-toggleable__control sk-hidden--visually\" id=\"sk-estimator-id-2\" type=\"checkbox\" checked><label for=\"sk-estimator-id-2\" class=\"sk-toggleable__label sk-toggleable__label-arrow\">RandomForestClassifier</label><div class=\"sk-toggleable__content\"><pre>RandomForestClassifier(random_state=7)</pre></div></div></div></div></div>"
            ]
          },
          "metadata": {},
          "execution_count": 10
        }
      ],
      "source": [
        "# build\n",
        "model = RandomForestClassifier(n_estimators=100, random_state=7, criterion='gini')\n",
        "\n",
        "# fit and save\n",
        "model.fit(x_train, y_train)"
      ]
    },
    {
      "cell_type": "code",
      "source": [
        "# Predict\n",
        "y_probs = model.predict(x_train)\n",
        "y_train_pred = (y_probs > 0.5).astype(int) # Apply threshold\n",
        "print(unique_value_counts(y_train_pred))\n",
        "# Metrics\n",
        "metrics = calculate_metrics(y_true=y_train, y_pred=y_train_pred, y_prob=y_probs,\n",
        "                            metrics=['precision', 'recall', 'f1', 'accuracy', 'auc'])\n",
        "print(metrics)\n"
      ],
      "metadata": {
        "colab": {
          "base_uri": "https://localhost:8080/"
        },
        "id": "hs96jKqII-Ga",
        "outputId": "36b89109-c7c7-4f35-d93d-5942c72aa935"
      },
      "execution_count": 11,
      "outputs": [
        {
          "output_type": "stream",
          "name": "stdout",
          "text": [
            "{0: 692, 1: 73}\n",
            "{'precision': 1.0, 'recall': 1.0, 'f1': 1.0, 'accuracy': 1.0, 'auc': 1.0}\n"
          ]
        }
      ]
    },
    {
      "cell_type": "code",
      "execution_count": 12,
      "metadata": {
        "id": "O5OdzgpvePY-",
        "outputId": "e34584d8-a7d9-4141-c58c-29cb6257f7a2",
        "colab": {
          "base_uri": "https://localhost:8080/"
        }
      },
      "outputs": [
        {
          "output_type": "stream",
          "name": "stdout",
          "text": [
            "{0: 215, 1: 4}\n",
            "{'precision': 0.5, 'recall': 0.0952, 'f1': 0.16, 'accuracy': 0.9041, 'auc': 0.5426}\n"
          ]
        }
      ],
      "source": [
        "# Predict\n",
        "y_probs = model.predict(x_val)\n",
        "y_val_pred = (y_probs > 0.5).astype(int) # Apply threshold\n",
        "print(unique_value_counts(y_val_pred))\n",
        "\n",
        "# Metrics\n",
        "metrics = calculate_metrics(y_true=y_val, y_pred=y_val_pred, y_prob=y_probs,\n",
        "                            metrics=['precision', 'recall', 'f1', 'accuracy', 'auc'])\n",
        "print(metrics)"
      ]
    },
    {
      "cell_type": "code",
      "execution_count": null,
      "metadata": {
        "id": "1DLOYYEPePY-"
      },
      "outputs": [],
      "source": []
    },
    {
      "cell_type": "markdown",
      "metadata": {
        "id": "3Xh-VlYNePY-"
      },
      "source": [
        "# Version 2 - SMOTE"
      ]
    },
    {
      "cell_type": "code",
      "execution_count": 13,
      "metadata": {
        "id": "AYxzo_M0ePY-",
        "outputId": "6df84672-8b88-430c-d6cc-893f2842a40d",
        "colab": {
          "base_uri": "https://localhost:8080/",
          "height": 74
        }
      },
      "outputs": [
        {
          "output_type": "execute_result",
          "data": {
            "text/plain": [
              "RandomForestClassifier(random_state=7)"
            ],
            "text/html": [
              "<style>#sk-container-id-3 {color: black;}#sk-container-id-3 pre{padding: 0;}#sk-container-id-3 div.sk-toggleable {background-color: white;}#sk-container-id-3 label.sk-toggleable__label {cursor: pointer;display: block;width: 100%;margin-bottom: 0;padding: 0.3em;box-sizing: border-box;text-align: center;}#sk-container-id-3 label.sk-toggleable__label-arrow:before {content: \"▸\";float: left;margin-right: 0.25em;color: #696969;}#sk-container-id-3 label.sk-toggleable__label-arrow:hover:before {color: black;}#sk-container-id-3 div.sk-estimator:hover label.sk-toggleable__label-arrow:before {color: black;}#sk-container-id-3 div.sk-toggleable__content {max-height: 0;max-width: 0;overflow: hidden;text-align: left;background-color: #f0f8ff;}#sk-container-id-3 div.sk-toggleable__content pre {margin: 0.2em;color: black;border-radius: 0.25em;background-color: #f0f8ff;}#sk-container-id-3 input.sk-toggleable__control:checked~div.sk-toggleable__content {max-height: 200px;max-width: 100%;overflow: auto;}#sk-container-id-3 input.sk-toggleable__control:checked~label.sk-toggleable__label-arrow:before {content: \"▾\";}#sk-container-id-3 div.sk-estimator input.sk-toggleable__control:checked~label.sk-toggleable__label {background-color: #d4ebff;}#sk-container-id-3 div.sk-label input.sk-toggleable__control:checked~label.sk-toggleable__label {background-color: #d4ebff;}#sk-container-id-3 input.sk-hidden--visually {border: 0;clip: rect(1px 1px 1px 1px);clip: rect(1px, 1px, 1px, 1px);height: 1px;margin: -1px;overflow: hidden;padding: 0;position: absolute;width: 1px;}#sk-container-id-3 div.sk-estimator {font-family: monospace;background-color: #f0f8ff;border: 1px dotted black;border-radius: 0.25em;box-sizing: border-box;margin-bottom: 0.5em;}#sk-container-id-3 div.sk-estimator:hover {background-color: #d4ebff;}#sk-container-id-3 div.sk-parallel-item::after {content: \"\";width: 100%;border-bottom: 1px solid gray;flex-grow: 1;}#sk-container-id-3 div.sk-label:hover label.sk-toggleable__label {background-color: #d4ebff;}#sk-container-id-3 div.sk-serial::before {content: \"\";position: absolute;border-left: 1px solid gray;box-sizing: border-box;top: 0;bottom: 0;left: 50%;z-index: 0;}#sk-container-id-3 div.sk-serial {display: flex;flex-direction: column;align-items: center;background-color: white;padding-right: 0.2em;padding-left: 0.2em;position: relative;}#sk-container-id-3 div.sk-item {position: relative;z-index: 1;}#sk-container-id-3 div.sk-parallel {display: flex;align-items: stretch;justify-content: center;background-color: white;position: relative;}#sk-container-id-3 div.sk-item::before, #sk-container-id-3 div.sk-parallel-item::before {content: \"\";position: absolute;border-left: 1px solid gray;box-sizing: border-box;top: 0;bottom: 0;left: 50%;z-index: -1;}#sk-container-id-3 div.sk-parallel-item {display: flex;flex-direction: column;z-index: 1;position: relative;background-color: white;}#sk-container-id-3 div.sk-parallel-item:first-child::after {align-self: flex-end;width: 50%;}#sk-container-id-3 div.sk-parallel-item:last-child::after {align-self: flex-start;width: 50%;}#sk-container-id-3 div.sk-parallel-item:only-child::after {width: 0;}#sk-container-id-3 div.sk-dashed-wrapped {border: 1px dashed gray;margin: 0 0.4em 0.5em 0.4em;box-sizing: border-box;padding-bottom: 0.4em;background-color: white;}#sk-container-id-3 div.sk-label label {font-family: monospace;font-weight: bold;display: inline-block;line-height: 1.2em;}#sk-container-id-3 div.sk-label-container {text-align: center;}#sk-container-id-3 div.sk-container {/* jupyter's `normalize.less` sets `[hidden] { display: none; }` but bootstrap.min.css set `[hidden] { display: none !important; }` so we also need the `!important` here to be able to override the default hidden behavior on the sphinx rendered scikit-learn.org. See: https://github.com/scikit-learn/scikit-learn/issues/21755 */display: inline-block !important;position: relative;}#sk-container-id-3 div.sk-text-repr-fallback {display: none;}</style><div id=\"sk-container-id-3\" class=\"sk-top-container\"><div class=\"sk-text-repr-fallback\"><pre>RandomForestClassifier(random_state=7)</pre><b>In a Jupyter environment, please rerun this cell to show the HTML representation or trust the notebook. <br />On GitHub, the HTML representation is unable to render, please try loading this page with nbviewer.org.</b></div><div class=\"sk-container\" hidden><div class=\"sk-item\"><div class=\"sk-estimator sk-toggleable\"><input class=\"sk-toggleable__control sk-hidden--visually\" id=\"sk-estimator-id-3\" type=\"checkbox\" checked><label for=\"sk-estimator-id-3\" class=\"sk-toggleable__label sk-toggleable__label-arrow\">RandomForestClassifier</label><div class=\"sk-toggleable__content\"><pre>RandomForestClassifier(random_state=7)</pre></div></div></div></div></div>"
            ]
          },
          "metadata": {},
          "execution_count": 13
        }
      ],
      "source": [
        "# build\n",
        "model = RandomForestClassifier(n_estimators=100, random_state=7, criterion='gini')\n",
        "\n",
        "# fit and save\n",
        "model.fit(x_train_smote, y_train_smote)"
      ]
    },
    {
      "cell_type": "code",
      "source": [
        "# Predict\n",
        "y_probs = model.predict(x_train_smote)\n",
        "y_train_pred = (y_probs > 0.5).astype(int) # Apply threshold\n",
        "print(unique_value_counts(y_train_pred))\n",
        "# Metrics\n",
        "metrics = calculate_metrics(y_true=y_train_smote, y_pred=y_train_pred, y_prob=y_probs,\n",
        "                            metrics=['precision', 'recall', 'f1', 'accuracy', 'auc'])\n",
        "print(metrics)"
      ],
      "metadata": {
        "colab": {
          "base_uri": "https://localhost:8080/"
        },
        "id": "A4TakIftJwH0",
        "outputId": "c2f5f9d9-fead-4412-e579-e9c7cbeca728"
      },
      "execution_count": 16,
      "outputs": [
        {
          "output_type": "stream",
          "name": "stdout",
          "text": [
            "{0: 692, 1: 692}\n",
            "{'precision': 1.0, 'recall': 1.0, 'f1': 1.0, 'accuracy': 1.0, 'auc': 1.0}\n"
          ]
        }
      ]
    },
    {
      "cell_type": "code",
      "execution_count": 17,
      "metadata": {
        "id": "2evadUhiePY_",
        "outputId": "29e0cb8e-0189-4741-9b14-aaeffd8cb251",
        "colab": {
          "base_uri": "https://localhost:8080/"
        }
      },
      "outputs": [
        {
          "output_type": "stream",
          "name": "stdout",
          "text": [
            "{0: 199, 1: 20}\n",
            "{'precision': 0.25, 'recall': 0.2381, 'f1': 0.2439, 'accuracy': 0.8584, 'auc': 0.5812}\n"
          ]
        }
      ],
      "source": [
        "# Predict\n",
        "y_probs = model.predict(x_val)\n",
        "y_val_pred = (y_probs > 0.5).astype(int) # Apply threshold\n",
        "print(unique_value_counts(y_val_pred))\n",
        "\n",
        "# Metrics\n",
        "metrics = calculate_metrics(y_true=y_val, y_pred=y_val_pred, y_prob=y_probs,\n",
        "                            metrics=['precision', 'recall', 'f1', 'accuracy', 'auc'])\n",
        "print(metrics)"
      ]
    },
    {
      "cell_type": "code",
      "execution_count": null,
      "metadata": {
        "id": "BY8edk06ePY_"
      },
      "outputs": [],
      "source": []
    },
    {
      "cell_type": "markdown",
      "metadata": {
        "id": "DmYgHntGePY_"
      },
      "source": [
        "# Version 3 - SMOTE, entropy"
      ]
    },
    {
      "cell_type": "code",
      "execution_count": 18,
      "metadata": {
        "id": "OfPLxIvlePY_",
        "outputId": "10213489-7848-412a-b964-24ff89abf93c",
        "colab": {
          "base_uri": "https://localhost:8080/",
          "height": 74
        }
      },
      "outputs": [
        {
          "output_type": "execute_result",
          "data": {
            "text/plain": [
              "RandomForestClassifier(criterion='entropy', random_state=7)"
            ],
            "text/html": [
              "<style>#sk-container-id-4 {color: black;}#sk-container-id-4 pre{padding: 0;}#sk-container-id-4 div.sk-toggleable {background-color: white;}#sk-container-id-4 label.sk-toggleable__label {cursor: pointer;display: block;width: 100%;margin-bottom: 0;padding: 0.3em;box-sizing: border-box;text-align: center;}#sk-container-id-4 label.sk-toggleable__label-arrow:before {content: \"▸\";float: left;margin-right: 0.25em;color: #696969;}#sk-container-id-4 label.sk-toggleable__label-arrow:hover:before {color: black;}#sk-container-id-4 div.sk-estimator:hover label.sk-toggleable__label-arrow:before {color: black;}#sk-container-id-4 div.sk-toggleable__content {max-height: 0;max-width: 0;overflow: hidden;text-align: left;background-color: #f0f8ff;}#sk-container-id-4 div.sk-toggleable__content pre {margin: 0.2em;color: black;border-radius: 0.25em;background-color: #f0f8ff;}#sk-container-id-4 input.sk-toggleable__control:checked~div.sk-toggleable__content {max-height: 200px;max-width: 100%;overflow: auto;}#sk-container-id-4 input.sk-toggleable__control:checked~label.sk-toggleable__label-arrow:before {content: \"▾\";}#sk-container-id-4 div.sk-estimator input.sk-toggleable__control:checked~label.sk-toggleable__label {background-color: #d4ebff;}#sk-container-id-4 div.sk-label input.sk-toggleable__control:checked~label.sk-toggleable__label {background-color: #d4ebff;}#sk-container-id-4 input.sk-hidden--visually {border: 0;clip: rect(1px 1px 1px 1px);clip: rect(1px, 1px, 1px, 1px);height: 1px;margin: -1px;overflow: hidden;padding: 0;position: absolute;width: 1px;}#sk-container-id-4 div.sk-estimator {font-family: monospace;background-color: #f0f8ff;border: 1px dotted black;border-radius: 0.25em;box-sizing: border-box;margin-bottom: 0.5em;}#sk-container-id-4 div.sk-estimator:hover {background-color: #d4ebff;}#sk-container-id-4 div.sk-parallel-item::after {content: \"\";width: 100%;border-bottom: 1px solid gray;flex-grow: 1;}#sk-container-id-4 div.sk-label:hover label.sk-toggleable__label {background-color: #d4ebff;}#sk-container-id-4 div.sk-serial::before {content: \"\";position: absolute;border-left: 1px solid gray;box-sizing: border-box;top: 0;bottom: 0;left: 50%;z-index: 0;}#sk-container-id-4 div.sk-serial {display: flex;flex-direction: column;align-items: center;background-color: white;padding-right: 0.2em;padding-left: 0.2em;position: relative;}#sk-container-id-4 div.sk-item {position: relative;z-index: 1;}#sk-container-id-4 div.sk-parallel {display: flex;align-items: stretch;justify-content: center;background-color: white;position: relative;}#sk-container-id-4 div.sk-item::before, #sk-container-id-4 div.sk-parallel-item::before {content: \"\";position: absolute;border-left: 1px solid gray;box-sizing: border-box;top: 0;bottom: 0;left: 50%;z-index: -1;}#sk-container-id-4 div.sk-parallel-item {display: flex;flex-direction: column;z-index: 1;position: relative;background-color: white;}#sk-container-id-4 div.sk-parallel-item:first-child::after {align-self: flex-end;width: 50%;}#sk-container-id-4 div.sk-parallel-item:last-child::after {align-self: flex-start;width: 50%;}#sk-container-id-4 div.sk-parallel-item:only-child::after {width: 0;}#sk-container-id-4 div.sk-dashed-wrapped {border: 1px dashed gray;margin: 0 0.4em 0.5em 0.4em;box-sizing: border-box;padding-bottom: 0.4em;background-color: white;}#sk-container-id-4 div.sk-label label {font-family: monospace;font-weight: bold;display: inline-block;line-height: 1.2em;}#sk-container-id-4 div.sk-label-container {text-align: center;}#sk-container-id-4 div.sk-container {/* jupyter's `normalize.less` sets `[hidden] { display: none; }` but bootstrap.min.css set `[hidden] { display: none !important; }` so we also need the `!important` here to be able to override the default hidden behavior on the sphinx rendered scikit-learn.org. See: https://github.com/scikit-learn/scikit-learn/issues/21755 */display: inline-block !important;position: relative;}#sk-container-id-4 div.sk-text-repr-fallback {display: none;}</style><div id=\"sk-container-id-4\" class=\"sk-top-container\"><div class=\"sk-text-repr-fallback\"><pre>RandomForestClassifier(criterion=&#x27;entropy&#x27;, random_state=7)</pre><b>In a Jupyter environment, please rerun this cell to show the HTML representation or trust the notebook. <br />On GitHub, the HTML representation is unable to render, please try loading this page with nbviewer.org.</b></div><div class=\"sk-container\" hidden><div class=\"sk-item\"><div class=\"sk-estimator sk-toggleable\"><input class=\"sk-toggleable__control sk-hidden--visually\" id=\"sk-estimator-id-4\" type=\"checkbox\" checked><label for=\"sk-estimator-id-4\" class=\"sk-toggleable__label sk-toggleable__label-arrow\">RandomForestClassifier</label><div class=\"sk-toggleable__content\"><pre>RandomForestClassifier(criterion=&#x27;entropy&#x27;, random_state=7)</pre></div></div></div></div></div>"
            ]
          },
          "metadata": {},
          "execution_count": 18
        }
      ],
      "source": [
        "# build\n",
        "model = RandomForestClassifier(n_estimators=100, random_state=7, criterion='entropy')\n",
        "\n",
        "# fit and save\n",
        "model.fit(x_train_smote, y_train_smote)"
      ]
    },
    {
      "cell_type": "code",
      "source": [
        "# Predict\n",
        "y_probs = model.predict(x_train_smote)\n",
        "y_train_pred = (y_probs > 0.5).astype(int) # Apply threshold\n",
        "print(unique_value_counts(y_train_pred))\n",
        "# Metrics\n",
        "metrics = calculate_metrics(y_true=y_train_smote, y_pred=y_train_pred, y_prob=y_probs,\n",
        "                            metrics=['precision', 'recall', 'f1', 'accuracy', 'auc'])\n",
        "print(metrics)"
      ],
      "metadata": {
        "colab": {
          "base_uri": "https://localhost:8080/"
        },
        "id": "j-Qx0a7ZKZ4Z",
        "outputId": "72053fe6-3bb4-45e6-bbce-43db02b2f71e"
      },
      "execution_count": 19,
      "outputs": [
        {
          "output_type": "stream",
          "name": "stdout",
          "text": [
            "{0: 692, 1: 692}\n",
            "{'precision': 1.0, 'recall': 1.0, 'f1': 1.0, 'accuracy': 1.0, 'auc': 1.0}\n"
          ]
        }
      ]
    },
    {
      "cell_type": "code",
      "execution_count": 20,
      "metadata": {
        "id": "Z6-JSVAcePY_",
        "outputId": "aee73d19-7c9c-41bf-94af-c13dc402d1f7",
        "colab": {
          "base_uri": "https://localhost:8080/"
        }
      },
      "outputs": [
        {
          "output_type": "stream",
          "name": "stdout",
          "text": [
            "{0: 198, 1: 21}\n",
            "{'precision': 0.2381, 'recall': 0.2381, 'f1': 0.2381, 'accuracy': 0.8539, 'auc': 0.5786}\n"
          ]
        }
      ],
      "source": [
        "# Predict\n",
        "y_probs = model.predict(x_val)\n",
        "y_val_pred = (y_probs > 0.5).astype(int) # Apply threshold\n",
        "print(unique_value_counts(y_val_pred))\n",
        "\n",
        "# Metrics\n",
        "metrics = calculate_metrics(y_true=y_val, y_pred=y_val_pred, y_prob=y_probs,\n",
        "                            metrics=['precision', 'recall', 'f1', 'accuracy', 'auc'])\n",
        "print(metrics)"
      ]
    },
    {
      "cell_type": "code",
      "execution_count": null,
      "metadata": {
        "id": "Bg_bvm2MePY_"
      },
      "outputs": [],
      "source": []
    },
    {
      "cell_type": "markdown",
      "metadata": {
        "id": "gFEo7CY_ePY_"
      },
      "source": [
        "# HYPERPARAMETER TUNING"
      ]
    },
    {
      "cell_type": "code",
      "execution_count": null,
      "metadata": {
        "id": "LVdKJcwDePZA"
      },
      "outputs": [],
      "source": [
        "param_dist = {'n_estimators': randint(50,500),\n",
        "              'max_depth': randint(1,20),\n",
        "              'criterion':['gini', 'entropy', 'log_loss'],\n",
        "              }"
      ]
    },
    {
      "cell_type": "code",
      "execution_count": null,
      "metadata": {
        "id": "eABN6Nz8ePZA",
        "outputId": "0c92f71e-82eb-47d4-b78d-48ef35cf2f14"
      },
      "outputs": [
        {
          "data": {
            "text/html": [
              "<style>#sk-container-id-36 {\n",
              "  /* Definition of color scheme common for light and dark mode */\n",
              "  --sklearn-color-text: black;\n",
              "  --sklearn-color-line: gray;\n",
              "  /* Definition of color scheme for unfitted estimators */\n",
              "  --sklearn-color-unfitted-level-0: #fff5e6;\n",
              "  --sklearn-color-unfitted-level-1: #f6e4d2;\n",
              "  --sklearn-color-unfitted-level-2: #ffe0b3;\n",
              "  --sklearn-color-unfitted-level-3: chocolate;\n",
              "  /* Definition of color scheme for fitted estimators */\n",
              "  --sklearn-color-fitted-level-0: #f0f8ff;\n",
              "  --sklearn-color-fitted-level-1: #d4ebff;\n",
              "  --sklearn-color-fitted-level-2: #b3dbfd;\n",
              "  --sklearn-color-fitted-level-3: cornflowerblue;\n",
              "\n",
              "  /* Specific color for light theme */\n",
              "  --sklearn-color-text-on-default-background: var(--sg-text-color, var(--theme-code-foreground, var(--jp-content-font-color1, black)));\n",
              "  --sklearn-color-background: var(--sg-background-color, var(--theme-background, var(--jp-layout-color0, white)));\n",
              "  --sklearn-color-border-box: var(--sg-text-color, var(--theme-code-foreground, var(--jp-content-font-color1, black)));\n",
              "  --sklearn-color-icon: #696969;\n",
              "\n",
              "  @media (prefers-color-scheme: dark) {\n",
              "    /* Redefinition of color scheme for dark theme */\n",
              "    --sklearn-color-text-on-default-background: var(--sg-text-color, var(--theme-code-foreground, var(--jp-content-font-color1, white)));\n",
              "    --sklearn-color-background: var(--sg-background-color, var(--theme-background, var(--jp-layout-color0, #111)));\n",
              "    --sklearn-color-border-box: var(--sg-text-color, var(--theme-code-foreground, var(--jp-content-font-color1, white)));\n",
              "    --sklearn-color-icon: #878787;\n",
              "  }\n",
              "}\n",
              "\n",
              "#sk-container-id-36 {\n",
              "  color: var(--sklearn-color-text);\n",
              "}\n",
              "\n",
              "#sk-container-id-36 pre {\n",
              "  padding: 0;\n",
              "}\n",
              "\n",
              "#sk-container-id-36 input.sk-hidden--visually {\n",
              "  border: 0;\n",
              "  clip: rect(1px 1px 1px 1px);\n",
              "  clip: rect(1px, 1px, 1px, 1px);\n",
              "  height: 1px;\n",
              "  margin: -1px;\n",
              "  overflow: hidden;\n",
              "  padding: 0;\n",
              "  position: absolute;\n",
              "  width: 1px;\n",
              "}\n",
              "\n",
              "#sk-container-id-36 div.sk-dashed-wrapped {\n",
              "  border: 1px dashed var(--sklearn-color-line);\n",
              "  margin: 0 0.4em 0.5em 0.4em;\n",
              "  box-sizing: border-box;\n",
              "  padding-bottom: 0.4em;\n",
              "  background-color: var(--sklearn-color-background);\n",
              "}\n",
              "\n",
              "#sk-container-id-36 div.sk-container {\n",
              "  /* jupyter's `normalize.less` sets `[hidden] { display: none; }`\n",
              "     but bootstrap.min.css set `[hidden] { display: none !important; }`\n",
              "     so we also need the `!important` here to be able to override the\n",
              "     default hidden behavior on the sphinx rendered scikit-learn.org.\n",
              "     See: https://github.com/scikit-learn/scikit-learn/issues/21755 */\n",
              "  display: inline-block !important;\n",
              "  position: relative;\n",
              "}\n",
              "\n",
              "#sk-container-id-36 div.sk-text-repr-fallback {\n",
              "  display: none;\n",
              "}\n",
              "\n",
              "div.sk-parallel-item,\n",
              "div.sk-serial,\n",
              "div.sk-item {\n",
              "  /* draw centered vertical line to link estimators */\n",
              "  background-image: linear-gradient(var(--sklearn-color-text-on-default-background), var(--sklearn-color-text-on-default-background));\n",
              "  background-size: 2px 100%;\n",
              "  background-repeat: no-repeat;\n",
              "  background-position: center center;\n",
              "}\n",
              "\n",
              "/* Parallel-specific style estimator block */\n",
              "\n",
              "#sk-container-id-36 div.sk-parallel-item::after {\n",
              "  content: \"\";\n",
              "  width: 100%;\n",
              "  border-bottom: 2px solid var(--sklearn-color-text-on-default-background);\n",
              "  flex-grow: 1;\n",
              "}\n",
              "\n",
              "#sk-container-id-36 div.sk-parallel {\n",
              "  display: flex;\n",
              "  align-items: stretch;\n",
              "  justify-content: center;\n",
              "  background-color: var(--sklearn-color-background);\n",
              "  position: relative;\n",
              "}\n",
              "\n",
              "#sk-container-id-36 div.sk-parallel-item {\n",
              "  display: flex;\n",
              "  flex-direction: column;\n",
              "}\n",
              "\n",
              "#sk-container-id-36 div.sk-parallel-item:first-child::after {\n",
              "  align-self: flex-end;\n",
              "  width: 50%;\n",
              "}\n",
              "\n",
              "#sk-container-id-36 div.sk-parallel-item:last-child::after {\n",
              "  align-self: flex-start;\n",
              "  width: 50%;\n",
              "}\n",
              "\n",
              "#sk-container-id-36 div.sk-parallel-item:only-child::after {\n",
              "  width: 0;\n",
              "}\n",
              "\n",
              "/* Serial-specific style estimator block */\n",
              "\n",
              "#sk-container-id-36 div.sk-serial {\n",
              "  display: flex;\n",
              "  flex-direction: column;\n",
              "  align-items: center;\n",
              "  background-color: var(--sklearn-color-background);\n",
              "  padding-right: 1em;\n",
              "  padding-left: 1em;\n",
              "}\n",
              "\n",
              "\n",
              "/* Toggleable style: style used for estimator/Pipeline/ColumnTransformer box that is\n",
              "clickable and can be expanded/collapsed.\n",
              "- Pipeline and ColumnTransformer use this feature and define the default style\n",
              "- Estimators will overwrite some part of the style using the `sk-estimator` class\n",
              "*/\n",
              "\n",
              "/* Pipeline and ColumnTransformer style (default) */\n",
              "\n",
              "#sk-container-id-36 div.sk-toggleable {\n",
              "  /* Default theme specific background. It is overwritten whether we have a\n",
              "  specific estimator or a Pipeline/ColumnTransformer */\n",
              "  background-color: var(--sklearn-color-background);\n",
              "}\n",
              "\n",
              "/* Toggleable label */\n",
              "#sk-container-id-36 label.sk-toggleable__label {\n",
              "  cursor: pointer;\n",
              "  display: block;\n",
              "  width: 100%;\n",
              "  margin-bottom: 0;\n",
              "  padding: 0.5em;\n",
              "  box-sizing: border-box;\n",
              "  text-align: center;\n",
              "}\n",
              "\n",
              "#sk-container-id-36 label.sk-toggleable__label-arrow:before {\n",
              "  /* Arrow on the left of the label */\n",
              "  content: \"▸\";\n",
              "  float: left;\n",
              "  margin-right: 0.25em;\n",
              "  color: var(--sklearn-color-icon);\n",
              "}\n",
              "\n",
              "#sk-container-id-36 label.sk-toggleable__label-arrow:hover:before {\n",
              "  color: var(--sklearn-color-text);\n",
              "}\n",
              "\n",
              "/* Toggleable content - dropdown */\n",
              "\n",
              "#sk-container-id-36 div.sk-toggleable__content {\n",
              "  max-height: 0;\n",
              "  max-width: 0;\n",
              "  overflow: hidden;\n",
              "  text-align: left;\n",
              "  /* unfitted */\n",
              "  background-color: var(--sklearn-color-unfitted-level-0);\n",
              "}\n",
              "\n",
              "#sk-container-id-36 div.sk-toggleable__content.fitted {\n",
              "  /* fitted */\n",
              "  background-color: var(--sklearn-color-fitted-level-0);\n",
              "}\n",
              "\n",
              "#sk-container-id-36 div.sk-toggleable__content pre {\n",
              "  margin: 0.2em;\n",
              "  border-radius: 0.25em;\n",
              "  color: var(--sklearn-color-text);\n",
              "  /* unfitted */\n",
              "  background-color: var(--sklearn-color-unfitted-level-0);\n",
              "}\n",
              "\n",
              "#sk-container-id-36 div.sk-toggleable__content.fitted pre {\n",
              "  /* unfitted */\n",
              "  background-color: var(--sklearn-color-fitted-level-0);\n",
              "}\n",
              "\n",
              "#sk-container-id-36 input.sk-toggleable__control:checked~div.sk-toggleable__content {\n",
              "  /* Expand drop-down */\n",
              "  max-height: 200px;\n",
              "  max-width: 100%;\n",
              "  overflow: auto;\n",
              "}\n",
              "\n",
              "#sk-container-id-36 input.sk-toggleable__control:checked~label.sk-toggleable__label-arrow:before {\n",
              "  content: \"▾\";\n",
              "}\n",
              "\n",
              "/* Pipeline/ColumnTransformer-specific style */\n",
              "\n",
              "#sk-container-id-36 div.sk-label input.sk-toggleable__control:checked~label.sk-toggleable__label {\n",
              "  color: var(--sklearn-color-text);\n",
              "  background-color: var(--sklearn-color-unfitted-level-2);\n",
              "}\n",
              "\n",
              "#sk-container-id-36 div.sk-label.fitted input.sk-toggleable__control:checked~label.sk-toggleable__label {\n",
              "  background-color: var(--sklearn-color-fitted-level-2);\n",
              "}\n",
              "\n",
              "/* Estimator-specific style */\n",
              "\n",
              "/* Colorize estimator box */\n",
              "#sk-container-id-36 div.sk-estimator input.sk-toggleable__control:checked~label.sk-toggleable__label {\n",
              "  /* unfitted */\n",
              "  background-color: var(--sklearn-color-unfitted-level-2);\n",
              "}\n",
              "\n",
              "#sk-container-id-36 div.sk-estimator.fitted input.sk-toggleable__control:checked~label.sk-toggleable__label {\n",
              "  /* fitted */\n",
              "  background-color: var(--sklearn-color-fitted-level-2);\n",
              "}\n",
              "\n",
              "#sk-container-id-36 div.sk-label label.sk-toggleable__label,\n",
              "#sk-container-id-36 div.sk-label label {\n",
              "  /* The background is the default theme color */\n",
              "  color: var(--sklearn-color-text-on-default-background);\n",
              "}\n",
              "\n",
              "/* On hover, darken the color of the background */\n",
              "#sk-container-id-36 div.sk-label:hover label.sk-toggleable__label {\n",
              "  color: var(--sklearn-color-text);\n",
              "  background-color: var(--sklearn-color-unfitted-level-2);\n",
              "}\n",
              "\n",
              "/* Label box, darken color on hover, fitted */\n",
              "#sk-container-id-36 div.sk-label.fitted:hover label.sk-toggleable__label.fitted {\n",
              "  color: var(--sklearn-color-text);\n",
              "  background-color: var(--sklearn-color-fitted-level-2);\n",
              "}\n",
              "\n",
              "/* Estimator label */\n",
              "\n",
              "#sk-container-id-36 div.sk-label label {\n",
              "  font-family: monospace;\n",
              "  font-weight: bold;\n",
              "  display: inline-block;\n",
              "  line-height: 1.2em;\n",
              "}\n",
              "\n",
              "#sk-container-id-36 div.sk-label-container {\n",
              "  text-align: center;\n",
              "}\n",
              "\n",
              "/* Estimator-specific */\n",
              "#sk-container-id-36 div.sk-estimator {\n",
              "  font-family: monospace;\n",
              "  border: 1px dotted var(--sklearn-color-border-box);\n",
              "  border-radius: 0.25em;\n",
              "  box-sizing: border-box;\n",
              "  margin-bottom: 0.5em;\n",
              "  /* unfitted */\n",
              "  background-color: var(--sklearn-color-unfitted-level-0);\n",
              "}\n",
              "\n",
              "#sk-container-id-36 div.sk-estimator.fitted {\n",
              "  /* fitted */\n",
              "  background-color: var(--sklearn-color-fitted-level-0);\n",
              "}\n",
              "\n",
              "/* on hover */\n",
              "#sk-container-id-36 div.sk-estimator:hover {\n",
              "  /* unfitted */\n",
              "  background-color: var(--sklearn-color-unfitted-level-2);\n",
              "}\n",
              "\n",
              "#sk-container-id-36 div.sk-estimator.fitted:hover {\n",
              "  /* fitted */\n",
              "  background-color: var(--sklearn-color-fitted-level-2);\n",
              "}\n",
              "\n",
              "/* Specification for estimator info (e.g. \"i\" and \"?\") */\n",
              "\n",
              "/* Common style for \"i\" and \"?\" */\n",
              "\n",
              ".sk-estimator-doc-link,\n",
              "a:link.sk-estimator-doc-link,\n",
              "a:visited.sk-estimator-doc-link {\n",
              "  float: right;\n",
              "  font-size: smaller;\n",
              "  line-height: 1em;\n",
              "  font-family: monospace;\n",
              "  background-color: var(--sklearn-color-background);\n",
              "  border-radius: 1em;\n",
              "  height: 1em;\n",
              "  width: 1em;\n",
              "  text-decoration: none !important;\n",
              "  margin-left: 1ex;\n",
              "  /* unfitted */\n",
              "  border: var(--sklearn-color-unfitted-level-1) 1pt solid;\n",
              "  color: var(--sklearn-color-unfitted-level-1);\n",
              "}\n",
              "\n",
              ".sk-estimator-doc-link.fitted,\n",
              "a:link.sk-estimator-doc-link.fitted,\n",
              "a:visited.sk-estimator-doc-link.fitted {\n",
              "  /* fitted */\n",
              "  border: var(--sklearn-color-fitted-level-1) 1pt solid;\n",
              "  color: var(--sklearn-color-fitted-level-1);\n",
              "}\n",
              "\n",
              "/* On hover */\n",
              "div.sk-estimator:hover .sk-estimator-doc-link:hover,\n",
              ".sk-estimator-doc-link:hover,\n",
              "div.sk-label-container:hover .sk-estimator-doc-link:hover,\n",
              ".sk-estimator-doc-link:hover {\n",
              "  /* unfitted */\n",
              "  background-color: var(--sklearn-color-unfitted-level-3);\n",
              "  color: var(--sklearn-color-background);\n",
              "  text-decoration: none;\n",
              "}\n",
              "\n",
              "div.sk-estimator.fitted:hover .sk-estimator-doc-link.fitted:hover,\n",
              ".sk-estimator-doc-link.fitted:hover,\n",
              "div.sk-label-container:hover .sk-estimator-doc-link.fitted:hover,\n",
              ".sk-estimator-doc-link.fitted:hover {\n",
              "  /* fitted */\n",
              "  background-color: var(--sklearn-color-fitted-level-3);\n",
              "  color: var(--sklearn-color-background);\n",
              "  text-decoration: none;\n",
              "}\n",
              "\n",
              "/* Span, style for the box shown on hovering the info icon */\n",
              ".sk-estimator-doc-link span {\n",
              "  display: none;\n",
              "  z-index: 9999;\n",
              "  position: relative;\n",
              "  font-weight: normal;\n",
              "  right: .2ex;\n",
              "  padding: .5ex;\n",
              "  margin: .5ex;\n",
              "  width: min-content;\n",
              "  min-width: 20ex;\n",
              "  max-width: 50ex;\n",
              "  color: var(--sklearn-color-text);\n",
              "  box-shadow: 2pt 2pt 4pt #999;\n",
              "  /* unfitted */\n",
              "  background: var(--sklearn-color-unfitted-level-0);\n",
              "  border: .5pt solid var(--sklearn-color-unfitted-level-3);\n",
              "}\n",
              "\n",
              ".sk-estimator-doc-link.fitted span {\n",
              "  /* fitted */\n",
              "  background: var(--sklearn-color-fitted-level-0);\n",
              "  border: var(--sklearn-color-fitted-level-3);\n",
              "}\n",
              "\n",
              ".sk-estimator-doc-link:hover span {\n",
              "  display: block;\n",
              "}\n",
              "\n",
              "/* \"?\"-specific style due to the `<a>` HTML tag */\n",
              "\n",
              "#sk-container-id-36 a.estimator_doc_link {\n",
              "  float: right;\n",
              "  font-size: 1rem;\n",
              "  line-height: 1em;\n",
              "  font-family: monospace;\n",
              "  background-color: var(--sklearn-color-background);\n",
              "  border-radius: 1rem;\n",
              "  height: 1rem;\n",
              "  width: 1rem;\n",
              "  text-decoration: none;\n",
              "  /* unfitted */\n",
              "  color: var(--sklearn-color-unfitted-level-1);\n",
              "  border: var(--sklearn-color-unfitted-level-1) 1pt solid;\n",
              "}\n",
              "\n",
              "#sk-container-id-36 a.estimator_doc_link.fitted {\n",
              "  /* fitted */\n",
              "  border: var(--sklearn-color-fitted-level-1) 1pt solid;\n",
              "  color: var(--sklearn-color-fitted-level-1);\n",
              "}\n",
              "\n",
              "/* On hover */\n",
              "#sk-container-id-36 a.estimator_doc_link:hover {\n",
              "  /* unfitted */\n",
              "  background-color: var(--sklearn-color-unfitted-level-3);\n",
              "  color: var(--sklearn-color-background);\n",
              "  text-decoration: none;\n",
              "}\n",
              "\n",
              "#sk-container-id-36 a.estimator_doc_link.fitted:hover {\n",
              "  /* fitted */\n",
              "  background-color: var(--sklearn-color-fitted-level-3);\n",
              "}\n",
              "</style><div id=\"sk-container-id-36\" class=\"sk-top-container\"><div class=\"sk-text-repr-fallback\"><pre>RandomizedSearchCV(cv=5, estimator=RandomForestClassifier(random_state=42),\n",
              "                   n_iter=5,\n",
              "                   param_distributions={&#x27;criterion&#x27;: [&#x27;gini&#x27;, &#x27;entropy&#x27;,\n",
              "                                                      &#x27;log_loss&#x27;],\n",
              "                                        &#x27;max_depth&#x27;: &lt;scipy.stats._distn_infrastructure.rv_discrete_frozen object at 0x00000108C8C49FD0&gt;,\n",
              "                                        &#x27;n_estimators&#x27;: &lt;scipy.stats._distn_infrastructure.rv_discrete_frozen object at 0x00000108C673D5D0&gt;})</pre><b>In a Jupyter environment, please rerun this cell to show the HTML representation or trust the notebook. <br />On GitHub, the HTML representation is unable to render, please try loading this page with nbviewer.org.</b></div><div class=\"sk-container\" hidden><div class=\"sk-item sk-dashed-wrapped\"><div class=\"sk-label-container\"><div class=\"sk-label fitted sk-toggleable\"><input class=\"sk-toggleable__control sk-hidden--visually\" id=\"sk-estimator-id-58\" type=\"checkbox\" ><label for=\"sk-estimator-id-58\" class=\"sk-toggleable__label fitted sk-toggleable__label-arrow fitted\">&nbsp;&nbsp;RandomizedSearchCV<a class=\"sk-estimator-doc-link fitted\" rel=\"noreferrer\" target=\"_blank\" href=\"https://scikit-learn.org/1.5/modules/generated/sklearn.model_selection.RandomizedSearchCV.html\">?<span>Documentation for RandomizedSearchCV</span></a><span class=\"sk-estimator-doc-link fitted\">i<span>Fitted</span></span></label><div class=\"sk-toggleable__content fitted\"><pre>RandomizedSearchCV(cv=5, estimator=RandomForestClassifier(random_state=42),\n",
              "                   n_iter=5,\n",
              "                   param_distributions={&#x27;criterion&#x27;: [&#x27;gini&#x27;, &#x27;entropy&#x27;,\n",
              "                                                      &#x27;log_loss&#x27;],\n",
              "                                        &#x27;max_depth&#x27;: &lt;scipy.stats._distn_infrastructure.rv_discrete_frozen object at 0x00000108C8C49FD0&gt;,\n",
              "                                        &#x27;n_estimators&#x27;: &lt;scipy.stats._distn_infrastructure.rv_discrete_frozen object at 0x00000108C673D5D0&gt;})</pre></div> </div></div><div class=\"sk-parallel\"><div class=\"sk-parallel-item\"><div class=\"sk-item\"><div class=\"sk-label-container\"><div class=\"sk-label fitted sk-toggleable\"><input class=\"sk-toggleable__control sk-hidden--visually\" id=\"sk-estimator-id-59\" type=\"checkbox\" ><label for=\"sk-estimator-id-59\" class=\"sk-toggleable__label fitted sk-toggleable__label-arrow fitted\">best_estimator_: RandomForestClassifier</label><div class=\"sk-toggleable__content fitted\"><pre>RandomForestClassifier(max_depth=11, n_estimators=260, random_state=42)</pre></div> </div></div><div class=\"sk-serial\"><div class=\"sk-item\"><div class=\"sk-estimator fitted sk-toggleable\"><input class=\"sk-toggleable__control sk-hidden--visually\" id=\"sk-estimator-id-60\" type=\"checkbox\" ><label for=\"sk-estimator-id-60\" class=\"sk-toggleable__label fitted sk-toggleable__label-arrow fitted\">&nbsp;RandomForestClassifier<a class=\"sk-estimator-doc-link fitted\" rel=\"noreferrer\" target=\"_blank\" href=\"https://scikit-learn.org/1.5/modules/generated/sklearn.ensemble.RandomForestClassifier.html\">?<span>Documentation for RandomForestClassifier</span></a></label><div class=\"sk-toggleable__content fitted\"><pre>RandomForestClassifier(max_depth=11, n_estimators=260, random_state=42)</pre></div> </div></div></div></div></div></div></div></div></div>"
            ],
            "text/plain": [
              "RandomizedSearchCV(cv=5, estimator=RandomForestClassifier(random_state=42),\n",
              "                   n_iter=5,\n",
              "                   param_distributions={'criterion': ['gini', 'entropy',\n",
              "                                                      'log_loss'],\n",
              "                                        'max_depth': <scipy.stats._distn_infrastructure.rv_discrete_frozen object at 0x00000108C8C49FD0>,\n",
              "                                        'n_estimators': <scipy.stats._distn_infrastructure.rv_discrete_frozen object at 0x00000108C673D5D0>})"
            ]
          },
          "execution_count": 156,
          "metadata": {},
          "output_type": "execute_result"
        }
      ],
      "source": [
        "# Create a random forest classifier\n",
        "model = RandomForestClassifier(random_state=42)\n",
        "\n",
        "# Use random search to find the best hyperparameters\n",
        "rand_search = RandomizedSearchCV(model,\n",
        "                                 param_distributions = param_dist,\n",
        "                                 n_iter=5,\n",
        "                                 cv=5)\n",
        "\n",
        "# Fit the random search object to the data\n",
        "rand_search.fit(x_train_smote, y_train_smote)"
      ]
    },
    {
      "cell_type": "code",
      "execution_count": null,
      "metadata": {
        "id": "Ns4s1MSZePZA",
        "outputId": "3564e2d6-9180-4a35-c4d0-e3969999ce66"
      },
      "outputs": [
        {
          "name": "stdout",
          "output_type": "stream",
          "text": [
            "Best hyperparameters: {'criterion': 'gini', 'max_depth': 11, 'n_estimators': 260}\n"
          ]
        }
      ],
      "source": [
        "# Create a variable for the best model\n",
        "best_rf = rand_search.best_estimator_\n",
        "\n",
        "# Print the best hyperparameters\n",
        "print('Best hyperparameters:',  rand_search.best_params_)"
      ]
    },
    {
      "cell_type": "code",
      "execution_count": null,
      "metadata": {
        "id": "RJRFNztiePZA"
      },
      "outputs": [],
      "source": []
    },
    {
      "cell_type": "markdown",
      "metadata": {
        "id": "MVi1XOc6ePZA"
      },
      "source": [
        "# Rebuild the best tuned and chosen model"
      ]
    },
    {
      "cell_type": "code",
      "execution_count": 21,
      "metadata": {
        "colab": {
          "base_uri": "https://localhost:8080/",
          "height": 74
        },
        "id": "gA-uBqsNePZB",
        "outputId": "d4728f2a-9c6d-439d-e050-1ad4b6e31ecb"
      },
      "outputs": [
        {
          "output_type": "execute_result",
          "data": {
            "text/plain": [
              "RandomForestClassifier(max_depth=11, n_estimators=260, random_state=7)"
            ],
            "text/html": [
              "<style>#sk-container-id-5 {color: black;}#sk-container-id-5 pre{padding: 0;}#sk-container-id-5 div.sk-toggleable {background-color: white;}#sk-container-id-5 label.sk-toggleable__label {cursor: pointer;display: block;width: 100%;margin-bottom: 0;padding: 0.3em;box-sizing: border-box;text-align: center;}#sk-container-id-5 label.sk-toggleable__label-arrow:before {content: \"▸\";float: left;margin-right: 0.25em;color: #696969;}#sk-container-id-5 label.sk-toggleable__label-arrow:hover:before {color: black;}#sk-container-id-5 div.sk-estimator:hover label.sk-toggleable__label-arrow:before {color: black;}#sk-container-id-5 div.sk-toggleable__content {max-height: 0;max-width: 0;overflow: hidden;text-align: left;background-color: #f0f8ff;}#sk-container-id-5 div.sk-toggleable__content pre {margin: 0.2em;color: black;border-radius: 0.25em;background-color: #f0f8ff;}#sk-container-id-5 input.sk-toggleable__control:checked~div.sk-toggleable__content {max-height: 200px;max-width: 100%;overflow: auto;}#sk-container-id-5 input.sk-toggleable__control:checked~label.sk-toggleable__label-arrow:before {content: \"▾\";}#sk-container-id-5 div.sk-estimator input.sk-toggleable__control:checked~label.sk-toggleable__label {background-color: #d4ebff;}#sk-container-id-5 div.sk-label input.sk-toggleable__control:checked~label.sk-toggleable__label {background-color: #d4ebff;}#sk-container-id-5 input.sk-hidden--visually {border: 0;clip: rect(1px 1px 1px 1px);clip: rect(1px, 1px, 1px, 1px);height: 1px;margin: -1px;overflow: hidden;padding: 0;position: absolute;width: 1px;}#sk-container-id-5 div.sk-estimator {font-family: monospace;background-color: #f0f8ff;border: 1px dotted black;border-radius: 0.25em;box-sizing: border-box;margin-bottom: 0.5em;}#sk-container-id-5 div.sk-estimator:hover {background-color: #d4ebff;}#sk-container-id-5 div.sk-parallel-item::after {content: \"\";width: 100%;border-bottom: 1px solid gray;flex-grow: 1;}#sk-container-id-5 div.sk-label:hover label.sk-toggleable__label {background-color: #d4ebff;}#sk-container-id-5 div.sk-serial::before {content: \"\";position: absolute;border-left: 1px solid gray;box-sizing: border-box;top: 0;bottom: 0;left: 50%;z-index: 0;}#sk-container-id-5 div.sk-serial {display: flex;flex-direction: column;align-items: center;background-color: white;padding-right: 0.2em;padding-left: 0.2em;position: relative;}#sk-container-id-5 div.sk-item {position: relative;z-index: 1;}#sk-container-id-5 div.sk-parallel {display: flex;align-items: stretch;justify-content: center;background-color: white;position: relative;}#sk-container-id-5 div.sk-item::before, #sk-container-id-5 div.sk-parallel-item::before {content: \"\";position: absolute;border-left: 1px solid gray;box-sizing: border-box;top: 0;bottom: 0;left: 50%;z-index: -1;}#sk-container-id-5 div.sk-parallel-item {display: flex;flex-direction: column;z-index: 1;position: relative;background-color: white;}#sk-container-id-5 div.sk-parallel-item:first-child::after {align-self: flex-end;width: 50%;}#sk-container-id-5 div.sk-parallel-item:last-child::after {align-self: flex-start;width: 50%;}#sk-container-id-5 div.sk-parallel-item:only-child::after {width: 0;}#sk-container-id-5 div.sk-dashed-wrapped {border: 1px dashed gray;margin: 0 0.4em 0.5em 0.4em;box-sizing: border-box;padding-bottom: 0.4em;background-color: white;}#sk-container-id-5 div.sk-label label {font-family: monospace;font-weight: bold;display: inline-block;line-height: 1.2em;}#sk-container-id-5 div.sk-label-container {text-align: center;}#sk-container-id-5 div.sk-container {/* jupyter's `normalize.less` sets `[hidden] { display: none; }` but bootstrap.min.css set `[hidden] { display: none !important; }` so we also need the `!important` here to be able to override the default hidden behavior on the sphinx rendered scikit-learn.org. See: https://github.com/scikit-learn/scikit-learn/issues/21755 */display: inline-block !important;position: relative;}#sk-container-id-5 div.sk-text-repr-fallback {display: none;}</style><div id=\"sk-container-id-5\" class=\"sk-top-container\"><div class=\"sk-text-repr-fallback\"><pre>RandomForestClassifier(max_depth=11, n_estimators=260, random_state=7)</pre><b>In a Jupyter environment, please rerun this cell to show the HTML representation or trust the notebook. <br />On GitHub, the HTML representation is unable to render, please try loading this page with nbviewer.org.</b></div><div class=\"sk-container\" hidden><div class=\"sk-item\"><div class=\"sk-estimator sk-toggleable\"><input class=\"sk-toggleable__control sk-hidden--visually\" id=\"sk-estimator-id-5\" type=\"checkbox\" checked><label for=\"sk-estimator-id-5\" class=\"sk-toggleable__label sk-toggleable__label-arrow\">RandomForestClassifier</label><div class=\"sk-toggleable__content\"><pre>RandomForestClassifier(max_depth=11, n_estimators=260, random_state=7)</pre></div></div></div></div></div>"
            ]
          },
          "metadata": {},
          "execution_count": 21
        }
      ],
      "source": [
        "# build\n",
        "model = RandomForestClassifier(n_estimators=260, random_state=7, criterion='gini', max_depth=11)\n",
        "\n",
        "# fit and save\n",
        "model.fit(x_train_smote, y_train_smote)"
      ]
    },
    {
      "cell_type": "code",
      "execution_count": null,
      "metadata": {
        "colab": {
          "base_uri": "https://localhost:8080/",
          "height": 582
        },
        "id": "4_Z7oz7VePZB",
        "outputId": "2f8dad1f-4337-4237-d8d8-b6cc73853b34"
      },
      "outputs": [
        {
          "output_type": "display_data",
          "data": {
            "text/plain": [
              "<Figure size 640x480 with 1 Axes>"
            ],
            "image/png": "[encoded data removed]"
          },
          "metadata": {}
        }
      ],
      "source": [
        "x_train_cols = ['Amount', 'Cover', 'SurrVal', 'Offer/APE', 'PercCover', 'CurrAge',\n",
        "       'Fee_claimed', 'Smoker ind', 'APE', 'SurrVal/APE', 'SurrVal/Cover',\n",
        "       'SurrVal ind', 'Post retirement (65) ind', 'Gender_F', 'Gender_M',\n",
        "       'Mngt_act_ACD', 'Mngt_act_BCD', 'Mngt_act_NR', 'Mngt_act_P5C',\n",
        "       'Mngt_act_P5P', 'Mngt_act_PIN', 'Socio Economic Class_1',\n",
        "       'Socio Economic Class_2', 'Socio Economic Class_3',\n",
        "       'Socio Economic Class_4']\n",
        "\n",
        "# Create a series containing feature importances from the model and feature names from the training data\n",
        "feature_importances = pd.Series(model.feature_importances_, index=x_train_cols).sort_values(ascending=False)\n",
        "\n",
        "# Plot bar chart\n",
        "feature_importances.plot.bar();"
      ]
    },
    {
      "cell_type": "code",
      "source": [
        "# Predict\n",
        "y_probs = model.predict(x_train_smote)\n",
        "y_train_pred = (y_probs > 0.5).astype(int) # Apply threshold\n",
        "print(unique_value_counts(y_train_pred))\n",
        "# Metrics\n",
        "metrics = calculate_metrics(y_true=y_train_smote, y_pred=y_train_pred, y_prob=y_probs,\n",
        "                            metrics=['precision', 'recall', 'f1', 'accuracy', 'auc'])\n",
        "print(metrics)"
      ],
      "metadata": {
        "colab": {
          "base_uri": "https://localhost:8080/"
        },
        "id": "aBZC1TzhKn3_",
        "outputId": "784b2013-ebd3-4158-b0af-1d6a097ea156"
      },
      "execution_count": 22,
      "outputs": [
        {
          "output_type": "stream",
          "name": "stdout",
          "text": [
            "{0: 651, 1: 733}\n",
            "{'precision': 0.9441, 'recall': 1.0, 'f1': 0.9712, 'accuracy': 0.9704, 'auc': 0.9704}\n"
          ]
        }
      ]
    },
    {
      "cell_type": "code",
      "execution_count": 23,
      "metadata": {
        "colab": {
          "base_uri": "https://localhost:8080/"
        },
        "id": "ZYxu9KSlePZD",
        "outputId": "6aa2c24b-332f-4bb8-ef14-c0b1bfec33c0"
      },
      "outputs": [
        {
          "output_type": "stream",
          "name": "stdout",
          "text": [
            "{0: 189, 1: 30}\n",
            "{'precision': 0.2667, 'recall': 0.381, 'f1': 0.3137, 'accuracy': 0.8402, 'auc': 0.6349}\n"
          ]
        }
      ],
      "source": [
        "# Predict\n",
        "y_probs = model.predict(x_val)\n",
        "y_val_pred = (y_probs > 0.5).astype(int) # Apply threshold\n",
        "print(unique_value_counts(y_val_pred))\n",
        "\n",
        "# Metrics\n",
        "metrics = calculate_metrics(y_true=y_val, y_pred=y_val_pred, y_prob=y_probs,\n",
        "                            metrics=['precision', 'recall', 'f1', 'accuracy', 'auc'])\n",
        "print(metrics)"
      ]
    },
    {
      "cell_type": "code",
      "execution_count": null,
      "metadata": {
        "colab": {
          "base_uri": "https://localhost:8080/"
        },
        "id": "sdRygC0OePZE",
        "outputId": "d35064df-70e2-42e2-a9c0-80ef353ad739"
      },
      "outputs": [
        {
          "output_type": "stream",
          "name": "stdout",
          "text": [
            "{0: 88, 1: 22}\n",
            "{'precision': 0.2727, 'recall': 0.6, 'f1': 0.375, 'accuracy': 0.8182, 'auc': 0.72}\n"
          ]
        }
      ],
      "source": [
        "# Predict\n",
        "y_probs = model.predict(x_test)\n",
        "y_test_pred = (y_probs > 0.5).astype(int) # Apply threshold\n",
        "print(unique_value_counts(y_test_pred))\n",
        "\n",
        "# Metrics\n",
        "metrics = calculate_metrics(y_true=y_test, y_pred=y_test_pred, y_prob=y_probs,\n",
        "                            metrics=['precision', 'recall', 'f1', 'accuracy', 'auc'])\n",
        "print(metrics)"
      ]
    },
    {
      "cell_type": "code",
      "execution_count": null,
      "metadata": {
        "id": "EAvbCOo1ePZE",
        "outputId": "ceb2917f-d3e3-4325-e05f-89c568bec9b6"
      },
      "outputs": [
        {
          "data": {
            "text/html": [
              "<div>\n",
              "<style scoped>\n",
              "    .dataframe tbody tr th:only-of-type {\n",
              "        vertical-align: middle;\n",
              "    }\n",
              "\n",
              "    .dataframe tbody tr th {\n",
              "        vertical-align: top;\n",
              "    }\n",
              "\n",
              "    .dataframe thead th {\n",
              "        text-align: right;\n",
              "    }\n",
              "</style>\n",
              "<table border=\"1\" class=\"dataframe\">\n",
              "  <thead>\n",
              "    <tr style=\"text-align: right;\">\n",
              "      <th></th>\n",
              "      <th>Predicted 0</th>\n",
              "      <th>Predicted 1</th>\n",
              "    </tr>\n",
              "  </thead>\n",
              "  <tbody>\n",
              "    <tr>\n",
              "      <th>Actual 0</th>\n",
              "      <td>86</td>\n",
              "      <td>4</td>\n",
              "    </tr>\n",
              "    <tr>\n",
              "      <th>Actual 1</th>\n",
              "      <td>14</td>\n",
              "      <td>6</td>\n",
              "    </tr>\n",
              "  </tbody>\n",
              "</table>\n",
              "</div>"
            ],
            "text/plain": [
              "          Predicted 0  Predicted 1\n",
              "Actual 0           86            4\n",
              "Actual 1           14            6"
            ]
          },
          "execution_count": 162,
          "metadata": {},
          "output_type": "execute_result"
        }
      ],
      "source": [
        "cm_df = pd.DataFrame(confusion_matrix(y_test_pred, y_test),\n",
        "                     index=['Actual 0', 'Actual 1'],\n",
        "                     columns=['Predicted 0', 'Predicted 1'])\n",
        "cm_df"
      ]
    },
    {
      "cell_type": "code",
      "source": [
        "# Export the first three decision trees from the forest\n",
        "\n",
        "x_train_cols = ['Amount', 'Cover', 'SurrVal', 'Offer/APE', 'PercCover', 'CurrAge',\n",
        "       'Fee_claimed', 'Smoker ind', 'APE', 'SurrVal/APE', 'SurrVal/Cover',\n",
        "       'SurrVal ind', 'Post retirement (65) ind', 'Gender_F', 'Gender_M',\n",
        "       'Mngt_act_ACD', 'Mngt_act_BCD', 'Mngt_act_NR', 'Mngt_act_P5C',\n",
        "       'Mngt_act_P5P', 'Mngt_act_PIN', 'Socio Economic Class_1',\n",
        "       'Socio Economic Class_2', 'Socio Economic Class_3',\n",
        "       'Socio Economic Class_4']\n",
        "\n",
        "for i in range(3):\n",
        "    tree = model.estimators_[i]\n",
        "    dot_data = export_graphviz(tree,\n",
        "                               feature_names=x_train_cols,\n",
        "                               filled=True,\n",
        "                               max_depth=2,\n",
        "                               impurity=False,\n",
        "                               proportion=True)\n",
        "    graph = graphviz.Source(dot_data)\n",
        "    display(graph)"
      ],
      "metadata": {
        "colab": {
          "base_uri": "https://localhost:8080/",
          "height": 1000
        },
        "id": "IpELTI8ugV5V",
        "outputId": "2c8da964-6309-4896-de24-843f621d482b"
      },
      "execution_count": null,
      "outputs": [
        {
          "output_type": "display_data",
          "data": {
            "image/svg+xml": "<?xml version=\"1.0\" encoding=\"UTF-8\" standalone=\"no\"?>\n<!DOCTYPE svg PUBLIC \"-//W3C//DTD SVG 1.1//EN\"\n \"http://www.w3.org/Graphics/SVG/1.1/DTD/svg11.dtd\">\n<!-- Generated by graphviz version 2.43.0 (0)\n -->\n<!-- Title: Tree Pages: 1 -->\n<svg width=\"648pt\" height=\"311pt\"\n viewBox=\"0.00 0.00 647.50 311.00\" xmlns=\"http://www.w3.org/2000/svg\" xmlns:xlink=\"http://www.w3.org/1999/xlink\">\n<g id=\"graph0\" class=\"graph\" transform=\"scale(1 1) rotate(0) translate(4 307)\">\n<title>Tree</title>\n<polygon fill=\"white\" stroke=\"transparent\" points=\"-4,4 -4,-307 643.5,-307 643.5,4 -4,4\"/>\n<!-- 0 -->\n<g id=\"node1\" class=\"node\">\n<title>0</title>\n<polygon fill=\"#fffffe\" stroke=\"black\" points=\"376.5,-303 218.5,-303 218.5,-250 376.5,-250 376.5,-303\"/>\n<text text-anchor=\"middle\" x=\"297.5\" y=\"-287.8\" font-family=\"Helvetica,sans-Serif\" font-size=\"14.00\">SurrVal/Cover &lt;= 0.179</text>\n<text text-anchor=\"middle\" x=\"297.5\" y=\"-272.8\" font-family=\"Helvetica,sans-Serif\" font-size=\"14.00\">samples = 100.0%</text>\n<text text-anchor=\"middle\" x=\"297.5\" y=\"-257.8\" font-family=\"Helvetica,sans-Serif\" font-size=\"14.00\">value = [0.501, 0.499]</text>\n</g>\n<!-- 1 -->\n<g id=\"node2\" class=\"node\">\n<title>1</title>\n<polygon fill=\"#eb9f67\" stroke=\"black\" points=\"277.5,-214 145.5,-214 145.5,-161 277.5,-161 277.5,-214\"/>\n<text text-anchor=\"middle\" x=\"211.5\" y=\"-198.8\" font-family=\"Helvetica,sans-Serif\" font-size=\"14.00\">CurrAge &lt;= 0.162</text>\n<text text-anchor=\"middle\" x=\"211.5\" y=\"-183.8\" font-family=\"Helvetica,sans-Serif\" font-size=\"14.00\">samples = 24.6%</text>\n<text text-anchor=\"middle\" x=\"211.5\" y=\"-168.8\" font-family=\"Helvetica,sans-Serif\" font-size=\"14.00\">value = [0.81, 0.19]</text>\n</g>\n<!-- 0&#45;&gt;1 -->\n<g id=\"edge1\" class=\"edge\">\n<title>0&#45;&gt;1</title>\n<path fill=\"none\" stroke=\"black\" d=\"M272.16,-249.87C263.4,-241.01 253.46,-230.95 244.2,-221.58\"/>\n<polygon fill=\"black\" stroke=\"black\" points=\"246.47,-218.9 236.95,-214.25 241.49,-223.82 246.47,-218.9\"/>\n<text text-anchor=\"middle\" x=\"236.81\" y=\"-235.55\" font-family=\"Helvetica,sans-Serif\" font-size=\"14.00\">True</text>\n</g>\n<!-- 58 -->\n<g id=\"node7\" class=\"node\">\n<title>58</title>\n<polygon fill=\"#b9dcf6\" stroke=\"black\" points=\"458,-214 311,-214 311,-161 458,-161 458,-214\"/>\n<text text-anchor=\"middle\" x=\"384.5\" y=\"-198.8\" font-family=\"Helvetica,sans-Serif\" font-size=\"14.00\">Offer/APE &lt;= 0.139</text>\n<text text-anchor=\"middle\" x=\"384.5\" y=\"-183.8\" font-family=\"Helvetica,sans-Serif\" font-size=\"14.00\">samples = 75.4%</text>\n<text text-anchor=\"middle\" x=\"384.5\" y=\"-168.8\" font-family=\"Helvetica,sans-Serif\" font-size=\"14.00\">value = [0.393, 0.607]</text>\n</g>\n<!-- 0&#45;&gt;58 -->\n<g id=\"edge6\" class=\"edge\">\n<title>0&#45;&gt;58</title>\n<path fill=\"none\" stroke=\"black\" d=\"M323.13,-249.87C331.99,-241.01 342.05,-230.95 351.42,-221.58\"/>\n<polygon fill=\"black\" stroke=\"black\" points=\"354.15,-223.8 358.75,-214.25 349.2,-218.85 354.15,-223.8\"/>\n<text text-anchor=\"middle\" x=\"358.75\" y=\"-235.55\" font-family=\"Helvetica,sans-Serif\" font-size=\"14.00\">False</text>\n</g>\n<!-- 2 -->\n<g id=\"node3\" class=\"node\">\n<title>2</title>\n<polygon fill=\"#399de5\" stroke=\"black\" points=\"117,-117.5 0,-117.5 0,-79.5 117,-79.5 117,-117.5\"/>\n<text text-anchor=\"middle\" x=\"58.5\" y=\"-102.3\" font-family=\"Helvetica,sans-Serif\" font-size=\"14.00\">samples = 0.7%</text>\n<text text-anchor=\"middle\" x=\"58.5\" y=\"-87.3\" font-family=\"Helvetica,sans-Serif\" font-size=\"14.00\">value = [0.0, 1.0]</text>\n</g>\n<!-- 1&#45;&gt;2 -->\n<g id=\"edge2\" class=\"edge\">\n<title>1&#45;&gt;2</title>\n<path fill=\"none\" stroke=\"black\" d=\"M166.42,-160.87C145.08,-148.73 119.78,-134.35 99.04,-122.55\"/>\n<polygon fill=\"black\" stroke=\"black\" points=\"100.59,-119.41 90.17,-117.51 97.13,-125.49 100.59,-119.41\"/>\n</g>\n<!-- 3 -->\n<g id=\"node4\" class=\"node\">\n<title>3</title>\n<polygon fill=\"#ea9b62\" stroke=\"black\" points=\"287.5,-125 135.5,-125 135.5,-72 287.5,-72 287.5,-125\"/>\n<text text-anchor=\"middle\" x=\"211.5\" y=\"-109.8\" font-family=\"Helvetica,sans-Serif\" font-size=\"14.00\">Fee_claimed &lt;= 0.032</text>\n<text text-anchor=\"middle\" x=\"211.5\" y=\"-94.8\" font-family=\"Helvetica,sans-Serif\" font-size=\"14.00\">samples = 23.9%</text>\n<text text-anchor=\"middle\" x=\"211.5\" y=\"-79.8\" font-family=\"Helvetica,sans-Serif\" font-size=\"14.00\">value = [0.829, 0.171]</text>\n</g>\n<!-- 1&#45;&gt;3 -->\n<g id=\"edge3\" class=\"edge\">\n<title>1&#45;&gt;3</title>\n<path fill=\"none\" stroke=\"black\" d=\"M211.5,-160.87C211.5,-152.89 211.5,-143.93 211.5,-135.38\"/>\n<polygon fill=\"black\" stroke=\"black\" points=\"215,-135.25 211.5,-125.25 208,-135.25 215,-135.25\"/>\n</g>\n<!-- 4 -->\n<g id=\"node5\" class=\"node\">\n<title>4</title>\n<polygon fill=\"#c0c0c0\" stroke=\"black\" points=\"209.5,-36 155.5,-36 155.5,0 209.5,0 209.5,-36\"/>\n<text text-anchor=\"middle\" x=\"182.5\" y=\"-14.3\" font-family=\"Helvetica,sans-Serif\" font-size=\"14.00\">(...)</text>\n</g>\n<!-- 3&#45;&gt;4 -->\n<g id=\"edge4\" class=\"edge\">\n<title>3&#45;&gt;4</title>\n<path fill=\"none\" stroke=\"black\" d=\"M202,-71.8C198.92,-63.44 195.49,-54.15 192.37,-45.72\"/>\n<polygon fill=\"black\" stroke=\"black\" points=\"195.65,-44.5 188.9,-36.33 189.08,-46.92 195.65,-44.5\"/>\n</g>\n<!-- 49 -->\n<g id=\"node6\" class=\"node\">\n<title>49</title>\n<polygon fill=\"#c0c0c0\" stroke=\"black\" points=\"281.5,-36 227.5,-36 227.5,0 281.5,0 281.5,-36\"/>\n<text text-anchor=\"middle\" x=\"254.5\" y=\"-14.3\" font-family=\"Helvetica,sans-Serif\" font-size=\"14.00\">(...)</text>\n</g>\n<!-- 3&#45;&gt;49 -->\n<g id=\"edge5\" class=\"edge\">\n<title>3&#45;&gt;49</title>\n<path fill=\"none\" stroke=\"black\" d=\"M225.58,-71.8C230.26,-63.26 235.47,-53.75 240.16,-45.17\"/>\n<polygon fill=\"black\" stroke=\"black\" points=\"243.27,-46.78 245.01,-36.33 237.13,-43.42 243.27,-46.78\"/>\n</g>\n<!-- 59 -->\n<g id=\"node8\" class=\"node\">\n<title>59</title>\n<polygon fill=\"#f2be99\" stroke=\"black\" points=\"463.5,-125 305.5,-125 305.5,-72 463.5,-72 463.5,-125\"/>\n<text text-anchor=\"middle\" x=\"384.5\" y=\"-109.8\" font-family=\"Helvetica,sans-Serif\" font-size=\"14.00\">Mngt_act_NR &lt;= 0.844</text>\n<text text-anchor=\"middle\" x=\"384.5\" y=\"-94.8\" font-family=\"Helvetica,sans-Serif\" font-size=\"14.00\">samples = 8.8%</text>\n<text text-anchor=\"middle\" x=\"384.5\" y=\"-79.8\" font-family=\"Helvetica,sans-Serif\" font-size=\"14.00\">value = [0.673, 0.327]</text>\n</g>\n<!-- 58&#45;&gt;59 -->\n<g id=\"edge7\" class=\"edge\">\n<title>58&#45;&gt;59</title>\n<path fill=\"none\" stroke=\"black\" d=\"M384.5,-160.87C384.5,-152.89 384.5,-143.93 384.5,-135.38\"/>\n<polygon fill=\"black\" stroke=\"black\" points=\"388,-135.25 384.5,-125.25 381,-135.25 388,-135.25\"/>\n</g>\n<!-- 106 -->\n<g id=\"node11\" class=\"node\">\n<title>106</title>\n<polygon fill=\"#a9d4f4\" stroke=\"black\" points=\"639.5,-125 481.5,-125 481.5,-72 639.5,-72 639.5,-125\"/>\n<text text-anchor=\"middle\" x=\"560.5\" y=\"-109.8\" font-family=\"Helvetica,sans-Serif\" font-size=\"14.00\">SurrVal/Cover &lt;= 0.726</text>\n<text text-anchor=\"middle\" x=\"560.5\" y=\"-94.8\" font-family=\"Helvetica,sans-Serif\" font-size=\"14.00\">samples = 66.6%</text>\n<text text-anchor=\"middle\" x=\"560.5\" y=\"-79.8\" font-family=\"Helvetica,sans-Serif\" font-size=\"14.00\">value = [0.361, 0.639]</text>\n</g>\n<!-- 58&#45;&gt;106 -->\n<g id=\"edge10\" class=\"edge\">\n<title>58&#45;&gt;106</title>\n<path fill=\"none\" stroke=\"black\" d=\"M436.35,-160.87C456.23,-151.04 479.08,-139.75 499.71,-129.55\"/>\n<polygon fill=\"black\" stroke=\"black\" points=\"501.3,-132.67 508.71,-125.1 498.2,-126.39 501.3,-132.67\"/>\n</g>\n<!-- 60 -->\n<g id=\"node9\" class=\"node\">\n<title>60</title>\n<polygon fill=\"#c0c0c0\" stroke=\"black\" points=\"383.5,-36 329.5,-36 329.5,0 383.5,0 383.5,-36\"/>\n<text text-anchor=\"middle\" x=\"356.5\" y=\"-14.3\" font-family=\"Helvetica,sans-Serif\" font-size=\"14.00\">(...)</text>\n</g>\n<!-- 59&#45;&gt;60 -->\n<g id=\"edge8\" class=\"edge\">\n<title>59&#45;&gt;60</title>\n<path fill=\"none\" stroke=\"black\" d=\"M375.33,-71.8C372.38,-63.53 369.11,-54.35 366.13,-46\"/>\n<polygon fill=\"black\" stroke=\"black\" points=\"369.34,-44.57 362.68,-36.33 362.74,-46.93 369.34,-44.57\"/>\n</g>\n<!-- 105 -->\n<g id=\"node10\" class=\"node\">\n<title>105</title>\n<polygon fill=\"#c0c0c0\" stroke=\"black\" points=\"455.5,-36 401.5,-36 401.5,0 455.5,0 455.5,-36\"/>\n<text text-anchor=\"middle\" x=\"428.5\" y=\"-14.3\" font-family=\"Helvetica,sans-Serif\" font-size=\"14.00\">(...)</text>\n</g>\n<!-- 59&#45;&gt;105 -->\n<g id=\"edge9\" class=\"edge\">\n<title>59&#45;&gt;105</title>\n<path fill=\"none\" stroke=\"black\" d=\"M398.91,-71.8C403.69,-63.26 409.02,-53.75 413.83,-45.17\"/>\n<polygon fill=\"black\" stroke=\"black\" points=\"416.95,-46.76 418.79,-36.33 410.84,-43.34 416.95,-46.76\"/>\n</g>\n<!-- 107 -->\n<g id=\"node12\" class=\"node\">\n<title>107</title>\n<polygon fill=\"#c0c0c0\" stroke=\"black\" points=\"542.5,-36 488.5,-36 488.5,0 542.5,0 542.5,-36\"/>\n<text text-anchor=\"middle\" x=\"515.5\" y=\"-14.3\" font-family=\"Helvetica,sans-Serif\" font-size=\"14.00\">(...)</text>\n</g>\n<!-- 106&#45;&gt;107 -->\n<g id=\"edge11\" class=\"edge\">\n<title>106&#45;&gt;107</title>\n<path fill=\"none\" stroke=\"black\" d=\"M545.77,-71.8C540.87,-63.26 535.42,-53.75 530.5,-45.17\"/>\n<polygon fill=\"black\" stroke=\"black\" points=\"533.44,-43.27 525.43,-36.33 527.37,-46.75 533.44,-43.27\"/>\n</g>\n<!-- 174 -->\n<g id=\"node13\" class=\"node\">\n<title>174</title>\n<polygon fill=\"#c0c0c0\" stroke=\"black\" points=\"614.5,-36 560.5,-36 560.5,0 614.5,0 614.5,-36\"/>\n<text text-anchor=\"middle\" x=\"587.5\" y=\"-14.3\" font-family=\"Helvetica,sans-Serif\" font-size=\"14.00\">(...)</text>\n</g>\n<!-- 106&#45;&gt;174 -->\n<g id=\"edge12\" class=\"edge\">\n<title>106&#45;&gt;174</title>\n<path fill=\"none\" stroke=\"black\" d=\"M569.34,-71.8C572.18,-63.53 575.34,-54.35 578.21,-46\"/>\n<polygon fill=\"black\" stroke=\"black\" points=\"581.6,-46.93 581.54,-36.33 574.98,-44.65 581.6,-46.93\"/>\n</g>\n</g>\n</svg>\n",
            "text/plain": [
              "<graphviz.sources.Source at 0x7d5ce6feb670>"
            ]
          },
          "metadata": {}
        },
        {
          "output_type": "display_data",
          "data": {
            "image/svg+xml": "<?xml version=\"1.0\" encoding=\"UTF-8\" standalone=\"no\"?>\n<!DOCTYPE svg PUBLIC \"-//W3C//DTD SVG 1.1//EN\"\n \"http://www.w3.org/Graphics/SVG/1.1/DTD/svg11.dtd\">\n<!-- Generated by graphviz version 2.43.0 (0)\n -->\n<!-- Title: Tree Pages: 1 -->\n<svg width=\"662pt\" height=\"311pt\"\n viewBox=\"0.00 0.00 662.00 311.00\" xmlns=\"http://www.w3.org/2000/svg\" xmlns:xlink=\"http://www.w3.org/1999/xlink\">\n<g id=\"graph0\" class=\"graph\" transform=\"scale(1 1) rotate(0) translate(4 307)\">\n<title>Tree</title>\n<polygon fill=\"white\" stroke=\"transparent\" points=\"-4,4 -4,-307 658,-307 658,4 -4,4\"/>\n<!-- 0 -->\n<g id=\"node1\" class=\"node\">\n<title>0</title>\n<polygon fill=\"#fefaf7\" stroke=\"black\" points=\"391.5,-303 255.5,-303 255.5,-250 391.5,-250 391.5,-303\"/>\n<text text-anchor=\"middle\" x=\"323.5\" y=\"-287.8\" font-family=\"Helvetica,sans-Serif\" font-size=\"14.00\">Offer/APE &lt;= 0.168</text>\n<text text-anchor=\"middle\" x=\"323.5\" y=\"-272.8\" font-family=\"Helvetica,sans-Serif\" font-size=\"14.00\">samples = 100.0%</text>\n<text text-anchor=\"middle\" x=\"323.5\" y=\"-257.8\" font-family=\"Helvetica,sans-Serif\" font-size=\"14.00\">value = [0.51, 0.49]</text>\n</g>\n<!-- 1 -->\n<g id=\"node2\" class=\"node\">\n<title>1</title>\n<polygon fill=\"#eca36e\" stroke=\"black\" points=\"314.5,-214 162.5,-214 162.5,-161 314.5,-161 314.5,-214\"/>\n<text text-anchor=\"middle\" x=\"238.5\" y=\"-198.8\" font-family=\"Helvetica,sans-Serif\" font-size=\"14.00\">Fee_claimed &lt;= 0.093</text>\n<text text-anchor=\"middle\" x=\"238.5\" y=\"-183.8\" font-family=\"Helvetica,sans-Serif\" font-size=\"14.00\">samples = 30.0%</text>\n<text text-anchor=\"middle\" x=\"238.5\" y=\"-168.8\" font-family=\"Helvetica,sans-Serif\" font-size=\"14.00\">value = [0.788, 0.212]</text>\n</g>\n<!-- 0&#45;&gt;1 -->\n<g id=\"edge1\" class=\"edge\">\n<title>0&#45;&gt;1</title>\n<path fill=\"none\" stroke=\"black\" d=\"M298.46,-249.87C289.8,-241.01 279.98,-230.95 270.82,-221.58\"/>\n<polygon fill=\"black\" stroke=\"black\" points=\"273.15,-218.96 263.66,-214.25 268.14,-223.85 273.15,-218.96\"/>\n<text text-anchor=\"middle\" x=\"263.37\" y=\"-235.55\" font-family=\"Helvetica,sans-Serif\" font-size=\"14.00\">True</text>\n</g>\n<!-- 66 -->\n<g id=\"node9\" class=\"node\">\n<title>66</title>\n<polygon fill=\"#bcdef6\" stroke=\"black\" points=\"485.5,-214 333.5,-214 333.5,-161 485.5,-161 485.5,-214\"/>\n<text text-anchor=\"middle\" x=\"409.5\" y=\"-198.8\" font-family=\"Helvetica,sans-Serif\" font-size=\"14.00\">Fee_claimed &lt;= 0.005</text>\n<text text-anchor=\"middle\" x=\"409.5\" y=\"-183.8\" font-family=\"Helvetica,sans-Serif\" font-size=\"14.00\">samples = 70.0%</text>\n<text text-anchor=\"middle\" x=\"409.5\" y=\"-168.8\" font-family=\"Helvetica,sans-Serif\" font-size=\"14.00\">value = [0.397, 0.603]</text>\n</g>\n<!-- 0&#45;&gt;66 -->\n<g id=\"edge8\" class=\"edge\">\n<title>0&#45;&gt;66</title>\n<path fill=\"none\" stroke=\"black\" d=\"M348.84,-249.87C357.6,-241.01 367.54,-230.95 376.8,-221.58\"/>\n<polygon fill=\"black\" stroke=\"black\" points=\"379.51,-223.82 384.05,-214.25 374.53,-218.9 379.51,-223.82\"/>\n<text text-anchor=\"middle\" x=\"384.19\" y=\"-235.55\" font-family=\"Helvetica,sans-Serif\" font-size=\"14.00\">False</text>\n</g>\n<!-- 2 -->\n<g id=\"node3\" class=\"node\">\n<title>2</title>\n<polygon fill=\"#ea995f\" stroke=\"black\" points=\"147,-125 0,-125 0,-72 147,-72 147,-125\"/>\n<text text-anchor=\"middle\" x=\"73.5\" y=\"-109.8\" font-family=\"Helvetica,sans-Serif\" font-size=\"14.00\">SurrVal/Cover &lt;= 0.1</text>\n<text text-anchor=\"middle\" x=\"73.5\" y=\"-94.8\" font-family=\"Helvetica,sans-Serif\" font-size=\"14.00\">samples = 27.6%</text>\n<text text-anchor=\"middle\" x=\"73.5\" y=\"-79.8\" font-family=\"Helvetica,sans-Serif\" font-size=\"14.00\">value = [0.837, 0.163]</text>\n</g>\n<!-- 1&#45;&gt;2 -->\n<g id=\"edge2\" class=\"edge\">\n<title>1&#45;&gt;2</title>\n<path fill=\"none\" stroke=\"black\" d=\"M189.89,-160.87C171.42,-151.13 150.22,-139.95 131.01,-129.82\"/>\n<polygon fill=\"black\" stroke=\"black\" points=\"132.53,-126.67 122.05,-125.1 129.26,-132.86 132.53,-126.67\"/>\n</g>\n<!-- 59 -->\n<g id=\"node6\" class=\"node\">\n<title>59</title>\n<polygon fill=\"#69b5eb\" stroke=\"black\" points=\"312,-125 165,-125 165,-72 312,-72 312,-125\"/>\n<text text-anchor=\"middle\" x=\"238.5\" y=\"-109.8\" font-family=\"Helvetica,sans-Serif\" font-size=\"14.00\">APE &lt;= 0.008</text>\n<text text-anchor=\"middle\" x=\"238.5\" y=\"-94.8\" font-family=\"Helvetica,sans-Serif\" font-size=\"14.00\">samples = 2.4%</text>\n<text text-anchor=\"middle\" x=\"238.5\" y=\"-79.8\" font-family=\"Helvetica,sans-Serif\" font-size=\"14.00\">value = [0.194, 0.806]</text>\n</g>\n<!-- 1&#45;&gt;59 -->\n<g id=\"edge5\" class=\"edge\">\n<title>1&#45;&gt;59</title>\n<path fill=\"none\" stroke=\"black\" d=\"M238.5,-160.87C238.5,-152.89 238.5,-143.93 238.5,-135.38\"/>\n<polygon fill=\"black\" stroke=\"black\" points=\"242,-135.25 238.5,-125.25 235,-135.25 242,-135.25\"/>\n</g>\n<!-- 3 -->\n<g id=\"node4\" class=\"node\">\n<title>3</title>\n<polygon fill=\"#c0c0c0\" stroke=\"black\" points=\"64.5,-36 10.5,-36 10.5,0 64.5,0 64.5,-36\"/>\n<text text-anchor=\"middle\" x=\"37.5\" y=\"-14.3\" font-family=\"Helvetica,sans-Serif\" font-size=\"14.00\">(...)</text>\n</g>\n<!-- 2&#45;&gt;3 -->\n<g id=\"edge3\" class=\"edge\">\n<title>2&#45;&gt;3</title>\n<path fill=\"none\" stroke=\"black\" d=\"M61.71,-71.8C57.84,-63.35 53.53,-53.95 49.63,-45.45\"/>\n<polygon fill=\"black\" stroke=\"black\" points=\"52.8,-43.96 45.45,-36.33 46.43,-46.88 52.8,-43.96\"/>\n</g>\n<!-- 8 -->\n<g id=\"node5\" class=\"node\">\n<title>8</title>\n<polygon fill=\"#c0c0c0\" stroke=\"black\" points=\"136.5,-36 82.5,-36 82.5,0 136.5,0 136.5,-36\"/>\n<text text-anchor=\"middle\" x=\"109.5\" y=\"-14.3\" font-family=\"Helvetica,sans-Serif\" font-size=\"14.00\">(...)</text>\n</g>\n<!-- 2&#45;&gt;8 -->\n<g id=\"edge4\" class=\"edge\">\n<title>2&#45;&gt;8</title>\n<path fill=\"none\" stroke=\"black\" d=\"M85.29,-71.8C89.16,-63.35 93.47,-53.95 97.37,-45.45\"/>\n<polygon fill=\"black\" stroke=\"black\" points=\"100.57,-46.88 101.55,-36.33 94.2,-43.96 100.57,-46.88\"/>\n</g>\n<!-- 60 -->\n<g id=\"node7\" class=\"node\">\n<title>60</title>\n<polygon fill=\"#c0c0c0\" stroke=\"black\" points=\"241.5,-36 187.5,-36 187.5,0 241.5,0 241.5,-36\"/>\n<text text-anchor=\"middle\" x=\"214.5\" y=\"-14.3\" font-family=\"Helvetica,sans-Serif\" font-size=\"14.00\">(...)</text>\n</g>\n<!-- 59&#45;&gt;60 -->\n<g id=\"edge6\" class=\"edge\">\n<title>59&#45;&gt;60</title>\n<path fill=\"none\" stroke=\"black\" d=\"M230.64,-71.8C228.11,-63.53 225.31,-54.35 222.75,-46\"/>\n<polygon fill=\"black\" stroke=\"black\" points=\"226.07,-44.87 219.8,-36.33 219.38,-46.92 226.07,-44.87\"/>\n</g>\n<!-- 61 -->\n<g id=\"node8\" class=\"node\">\n<title>61</title>\n<polygon fill=\"#c0c0c0\" stroke=\"black\" points=\"313.5,-36 259.5,-36 259.5,0 313.5,0 313.5,-36\"/>\n<text text-anchor=\"middle\" x=\"286.5\" y=\"-14.3\" font-family=\"Helvetica,sans-Serif\" font-size=\"14.00\">(...)</text>\n</g>\n<!-- 59&#45;&gt;61 -->\n<g id=\"edge7\" class=\"edge\">\n<title>59&#45;&gt;61</title>\n<path fill=\"none\" stroke=\"black\" d=\"M254.22,-71.8C259.49,-63.17 265.38,-53.54 270.66,-44.9\"/>\n<polygon fill=\"black\" stroke=\"black\" points=\"273.67,-46.69 275.9,-36.33 267.7,-43.04 273.67,-46.69\"/>\n</g>\n<!-- 67 -->\n<g id=\"node10\" class=\"node\">\n<title>67</title>\n<polygon fill=\"#e0f0fb\" stroke=\"black\" points=\"488.5,-125 330.5,-125 330.5,-72 488.5,-72 488.5,-125\"/>\n<text text-anchor=\"middle\" x=\"409.5\" y=\"-109.8\" font-family=\"Helvetica,sans-Serif\" font-size=\"14.00\">SurrVal/Cover &lt;= 0.228</text>\n<text text-anchor=\"middle\" x=\"409.5\" y=\"-94.8\" font-family=\"Helvetica,sans-Serif\" font-size=\"14.00\">samples = 59.2%</text>\n<text text-anchor=\"middle\" x=\"409.5\" y=\"-79.8\" font-family=\"Helvetica,sans-Serif\" font-size=\"14.00\">value = [0.458, 0.542]</text>\n</g>\n<!-- 66&#45;&gt;67 -->\n<g id=\"edge9\" class=\"edge\">\n<title>66&#45;&gt;67</title>\n<path fill=\"none\" stroke=\"black\" d=\"M409.5,-160.87C409.5,-152.89 409.5,-143.93 409.5,-135.38\"/>\n<polygon fill=\"black\" stroke=\"black\" points=\"413,-135.25 409.5,-125.25 406,-135.25 413,-135.25\"/>\n</g>\n<!-- 194 -->\n<g id=\"node13\" class=\"node\">\n<title>194</title>\n<polygon fill=\"#43a2e6\" stroke=\"black\" points=\"654,-125 507,-125 507,-72 654,-72 654,-125\"/>\n<text text-anchor=\"middle\" x=\"580.5\" y=\"-109.8\" font-family=\"Helvetica,sans-Serif\" font-size=\"14.00\">Cover &lt;= 0.008</text>\n<text text-anchor=\"middle\" x=\"580.5\" y=\"-94.8\" font-family=\"Helvetica,sans-Serif\" font-size=\"14.00\">samples = 10.8%</text>\n<text text-anchor=\"middle\" x=\"580.5\" y=\"-79.8\" font-family=\"Helvetica,sans-Serif\" font-size=\"14.00\">value = [0.048, 0.952]</text>\n</g>\n<!-- 66&#45;&gt;194 -->\n<g id=\"edge12\" class=\"edge\">\n<title>66&#45;&gt;194</title>\n<path fill=\"none\" stroke=\"black\" d=\"M459.88,-160.87C479.1,-151.09 501.19,-139.85 521.17,-129.68\"/>\n<polygon fill=\"black\" stroke=\"black\" points=\"522.86,-132.75 530.18,-125.1 519.68,-126.51 522.86,-132.75\"/>\n</g>\n<!-- 68 -->\n<g id=\"node11\" class=\"node\">\n<title>68</title>\n<polygon fill=\"#c0c0c0\" stroke=\"black\" points=\"404.5,-36 350.5,-36 350.5,0 404.5,0 404.5,-36\"/>\n<text text-anchor=\"middle\" x=\"377.5\" y=\"-14.3\" font-family=\"Helvetica,sans-Serif\" font-size=\"14.00\">(...)</text>\n</g>\n<!-- 67&#45;&gt;68 -->\n<g id=\"edge10\" class=\"edge\">\n<title>67&#45;&gt;68</title>\n<path fill=\"none\" stroke=\"black\" d=\"M399.02,-71.8C395.62,-63.44 391.83,-54.15 388.39,-45.72\"/>\n<polygon fill=\"black\" stroke=\"black\" points=\"391.58,-44.27 384.56,-36.33 385.1,-46.91 391.58,-44.27\"/>\n</g>\n<!-- 111 -->\n<g id=\"node12\" class=\"node\">\n<title>111</title>\n<polygon fill=\"#c0c0c0\" stroke=\"black\" points=\"476.5,-36 422.5,-36 422.5,0 476.5,0 476.5,-36\"/>\n<text text-anchor=\"middle\" x=\"449.5\" y=\"-14.3\" font-family=\"Helvetica,sans-Serif\" font-size=\"14.00\">(...)</text>\n</g>\n<!-- 67&#45;&gt;111 -->\n<g id=\"edge11\" class=\"edge\">\n<title>67&#45;&gt;111</title>\n<path fill=\"none\" stroke=\"black\" d=\"M422.6,-71.8C426.9,-63.35 431.69,-53.95 436.02,-45.45\"/>\n<polygon fill=\"black\" stroke=\"black\" points=\"439.25,-46.83 440.67,-36.33 433.01,-43.65 439.25,-46.83\"/>\n</g>\n<!-- 195 -->\n<g id=\"node14\" class=\"node\">\n<title>195</title>\n<polygon fill=\"#c0c0c0\" stroke=\"black\" points=\"558.5,-36 504.5,-36 504.5,0 558.5,0 558.5,-36\"/>\n<text text-anchor=\"middle\" x=\"531.5\" y=\"-14.3\" font-family=\"Helvetica,sans-Serif\" font-size=\"14.00\">(...)</text>\n</g>\n<!-- 194&#45;&gt;195 -->\n<g id=\"edge13\" class=\"edge\">\n<title>194&#45;&gt;195</title>\n<path fill=\"none\" stroke=\"black\" d=\"M564.46,-71.8C559.07,-63.17 553.06,-53.54 547.67,-44.9\"/>\n<polygon fill=\"black\" stroke=\"black\" points=\"550.58,-42.96 542.32,-36.33 544.64,-46.67 550.58,-42.96\"/>\n</g>\n<!-- 204 -->\n<g id=\"node15\" class=\"node\">\n<title>204</title>\n<polygon fill=\"#c0c0c0\" stroke=\"black\" points=\"630.5,-36 576.5,-36 576.5,0 630.5,0 630.5,-36\"/>\n<text text-anchor=\"middle\" x=\"603.5\" y=\"-14.3\" font-family=\"Helvetica,sans-Serif\" font-size=\"14.00\">(...)</text>\n</g>\n<!-- 194&#45;&gt;204 -->\n<g id=\"edge14\" class=\"edge\">\n<title>194&#45;&gt;204</title>\n<path fill=\"none\" stroke=\"black\" d=\"M588.03,-71.8C590.45,-63.53 593.14,-54.35 595.59,-46\"/>\n<polygon fill=\"black\" stroke=\"black\" points=\"598.97,-46.91 598.42,-36.33 592.25,-44.94 598.97,-46.91\"/>\n</g>\n</g>\n</svg>\n",
            "text/plain": [
              "<graphviz.sources.Source at 0x7d5ce2c714b0>"
            ]
          },
          "metadata": {}
        },
        {
          "output_type": "display_data",
          "data": {
            "image/svg+xml": "<?xml version=\"1.0\" encoding=\"UTF-8\" standalone=\"no\"?>\n<!DOCTYPE svg PUBLIC \"-//W3C//DTD SVG 1.1//EN\"\n \"http://www.w3.org/Graphics/SVG/1.1/DTD/svg11.dtd\">\n<!-- Generated by graphviz version 2.43.0 (0)\n -->\n<!-- Title: Tree Pages: 1 -->\n<svg width=\"622pt\" height=\"311pt\"\n viewBox=\"0.00 0.00 622.00 311.00\" xmlns=\"http://www.w3.org/2000/svg\" xmlns:xlink=\"http://www.w3.org/1999/xlink\">\n<g id=\"graph0\" class=\"graph\" transform=\"scale(1 1) rotate(0) translate(4 307)\">\n<title>Tree</title>\n<polygon fill=\"white\" stroke=\"transparent\" points=\"-4,4 -4,-307 618,-307 618,4 -4,4\"/>\n<!-- 0 -->\n<g id=\"node1\" class=\"node\">\n<title>0</title>\n<polygon fill=\"#fffefe\" stroke=\"black\" points=\"400.5,-303 184.5,-303 184.5,-250 400.5,-250 400.5,-303\"/>\n<text text-anchor=\"middle\" x=\"292.5\" y=\"-287.8\" font-family=\"Helvetica,sans-Serif\" font-size=\"14.00\">Post retirement (65) ind &lt;= 0.049</text>\n<text text-anchor=\"middle\" x=\"292.5\" y=\"-272.8\" font-family=\"Helvetica,sans-Serif\" font-size=\"14.00\">samples = 100.0%</text>\n<text text-anchor=\"middle\" x=\"292.5\" y=\"-257.8\" font-family=\"Helvetica,sans-Serif\" font-size=\"14.00\">value = [0.501, 0.499]</text>\n</g>\n<!-- 1 -->\n<g id=\"node2\" class=\"node\">\n<title>1</title>\n<polygon fill=\"#edaa79\" stroke=\"black\" points=\"283,-214 136,-214 136,-161 283,-161 283,-214\"/>\n<text text-anchor=\"middle\" x=\"209.5\" y=\"-198.8\" font-family=\"Helvetica,sans-Serif\" font-size=\"14.00\">Offer/APE &lt;= 0.171</text>\n<text text-anchor=\"middle\" x=\"209.5\" y=\"-183.8\" font-family=\"Helvetica,sans-Serif\" font-size=\"14.00\">samples = 15.2%</text>\n<text text-anchor=\"middle\" x=\"209.5\" y=\"-168.8\" font-family=\"Helvetica,sans-Serif\" font-size=\"14.00\">value = [0.756, 0.244]</text>\n</g>\n<!-- 0&#45;&gt;1 -->\n<g id=\"edge1\" class=\"edge\">\n<title>0&#45;&gt;1</title>\n<path fill=\"none\" stroke=\"black\" d=\"M268.05,-249.87C259.59,-241.01 250,-230.95 241.06,-221.58\"/>\n<polygon fill=\"black\" stroke=\"black\" points=\"243.5,-219.07 234.07,-214.25 238.44,-223.9 243.5,-219.07\"/>\n<text text-anchor=\"middle\" x=\"233.48\" y=\"-235.54\" font-family=\"Helvetica,sans-Serif\" font-size=\"14.00\">True</text>\n</g>\n<!-- 36 -->\n<g id=\"node7\" class=\"node\">\n<title>36</title>\n<polygon fill=\"#e2f1fb\" stroke=\"black\" points=\"441.5,-214 309.5,-214 309.5,-161 441.5,-161 441.5,-214\"/>\n<text text-anchor=\"middle\" x=\"375.5\" y=\"-198.8\" font-family=\"Helvetica,sans-Serif\" font-size=\"14.00\">APE &lt;= 0.011</text>\n<text text-anchor=\"middle\" x=\"375.5\" y=\"-183.8\" font-family=\"Helvetica,sans-Serif\" font-size=\"14.00\">samples = 84.8%</text>\n<text text-anchor=\"middle\" x=\"375.5\" y=\"-168.8\" font-family=\"Helvetica,sans-Serif\" font-size=\"14.00\">value = [0.46, 0.54]</text>\n</g>\n<!-- 0&#45;&gt;36 -->\n<g id=\"edge6\" class=\"edge\">\n<title>0&#45;&gt;36</title>\n<path fill=\"none\" stroke=\"black\" d=\"M316.95,-249.87C325.41,-241.01 335,-230.95 343.94,-221.58\"/>\n<polygon fill=\"black\" stroke=\"black\" points=\"346.56,-223.9 350.93,-214.25 341.5,-219.07 346.56,-223.9\"/>\n<text text-anchor=\"middle\" x=\"351.52\" y=\"-235.54\" font-family=\"Helvetica,sans-Serif\" font-size=\"14.00\">False</text>\n</g>\n<!-- 2 -->\n<g id=\"node3\" class=\"node\">\n<title>2</title>\n<polygon fill=\"#e58139\" stroke=\"black\" points=\"117,-117.5 0,-117.5 0,-79.5 117,-79.5 117,-117.5\"/>\n<text text-anchor=\"middle\" x=\"58.5\" y=\"-102.3\" font-family=\"Helvetica,sans-Serif\" font-size=\"14.00\">samples = 5.1%</text>\n<text text-anchor=\"middle\" x=\"58.5\" y=\"-87.3\" font-family=\"Helvetica,sans-Serif\" font-size=\"14.00\">value = [1.0, 0.0]</text>\n</g>\n<!-- 1&#45;&gt;2 -->\n<g id=\"edge2\" class=\"edge\">\n<title>1&#45;&gt;2</title>\n<path fill=\"none\" stroke=\"black\" d=\"M165.01,-160.87C143.94,-148.73 118.98,-134.35 98.51,-122.55\"/>\n<polygon fill=\"black\" stroke=\"black\" points=\"100.16,-119.47 89.75,-117.51 96.67,-125.53 100.16,-119.47\"/>\n</g>\n<!-- 3 -->\n<g id=\"node4\" class=\"node\">\n<title>3</title>\n<polygon fill=\"#f4ccaf\" stroke=\"black\" points=\"284,-125 135,-125 135,-72 284,-72 284,-125\"/>\n<text text-anchor=\"middle\" x=\"209.5\" y=\"-109.8\" font-family=\"Helvetica,sans-Serif\" font-size=\"14.00\">SurrVal/APE &lt;= 0.001</text>\n<text text-anchor=\"middle\" x=\"209.5\" y=\"-94.8\" font-family=\"Helvetica,sans-Serif\" font-size=\"14.00\">samples = 10.1%</text>\n<text text-anchor=\"middle\" x=\"209.5\" y=\"-79.8\" font-family=\"Helvetica,sans-Serif\" font-size=\"14.00\">value = [0.627, 0.373]</text>\n</g>\n<!-- 1&#45;&gt;3 -->\n<g id=\"edge3\" class=\"edge\">\n<title>1&#45;&gt;3</title>\n<path fill=\"none\" stroke=\"black\" d=\"M209.5,-160.87C209.5,-152.89 209.5,-143.93 209.5,-135.38\"/>\n<polygon fill=\"black\" stroke=\"black\" points=\"213,-135.25 209.5,-125.25 206,-135.25 213,-135.25\"/>\n</g>\n<!-- 4 -->\n<g id=\"node5\" class=\"node\">\n<title>4</title>\n<polygon fill=\"#c0c0c0\" stroke=\"black\" points=\"206.5,-36 152.5,-36 152.5,0 206.5,0 206.5,-36\"/>\n<text text-anchor=\"middle\" x=\"179.5\" y=\"-14.3\" font-family=\"Helvetica,sans-Serif\" font-size=\"14.00\">(...)</text>\n</g>\n<!-- 3&#45;&gt;4 -->\n<g id=\"edge4\" class=\"edge\">\n<title>3&#45;&gt;4</title>\n<path fill=\"none\" stroke=\"black\" d=\"M199.68,-71.8C196.48,-63.44 192.93,-54.15 189.71,-45.72\"/>\n<polygon fill=\"black\" stroke=\"black\" points=\"192.96,-44.42 186.12,-36.33 186.42,-46.92 192.96,-44.42\"/>\n</g>\n<!-- 15 -->\n<g id=\"node6\" class=\"node\">\n<title>15</title>\n<polygon fill=\"#c0c0c0\" stroke=\"black\" points=\"278.5,-36 224.5,-36 224.5,0 278.5,0 278.5,-36\"/>\n<text text-anchor=\"middle\" x=\"251.5\" y=\"-14.3\" font-family=\"Helvetica,sans-Serif\" font-size=\"14.00\">(...)</text>\n</g>\n<!-- 3&#45;&gt;15 -->\n<g id=\"edge5\" class=\"edge\">\n<title>3&#45;&gt;15</title>\n<path fill=\"none\" stroke=\"black\" d=\"M223.25,-71.8C227.82,-63.26 232.91,-53.75 237.5,-45.17\"/>\n<polygon fill=\"black\" stroke=\"black\" points=\"240.6,-46.8 242.23,-36.33 234.42,-43.5 240.6,-46.8\"/>\n</g>\n<!-- 37 -->\n<g id=\"node8\" class=\"node\">\n<title>37</title>\n<polygon fill=\"#aed7f4\" stroke=\"black\" points=\"449,-125 302,-125 302,-72 449,-72 449,-125\"/>\n<text text-anchor=\"middle\" x=\"375.5\" y=\"-109.8\" font-family=\"Helvetica,sans-Serif\" font-size=\"14.00\">Gender_F &lt;= 0.991</text>\n<text text-anchor=\"middle\" x=\"375.5\" y=\"-94.8\" font-family=\"Helvetica,sans-Serif\" font-size=\"14.00\">samples = 54.4%</text>\n<text text-anchor=\"middle\" x=\"375.5\" y=\"-79.8\" font-family=\"Helvetica,sans-Serif\" font-size=\"14.00\">value = [0.371, 0.629]</text>\n</g>\n<!-- 36&#45;&gt;37 -->\n<g id=\"edge7\" class=\"edge\">\n<title>36&#45;&gt;37</title>\n<path fill=\"none\" stroke=\"black\" d=\"M375.5,-160.87C375.5,-152.89 375.5,-143.93 375.5,-135.38\"/>\n<polygon fill=\"black\" stroke=\"black\" points=\"379,-135.25 375.5,-125.25 372,-135.25 379,-135.25\"/>\n</g>\n<!-- 152 -->\n<g id=\"node11\" class=\"node\">\n<title>152</title>\n<polygon fill=\"#f5cfb3\" stroke=\"black\" points=\"614,-125 467,-125 467,-72 614,-72 614,-125\"/>\n<text text-anchor=\"middle\" x=\"540.5\" y=\"-109.8\" font-family=\"Helvetica,sans-Serif\" font-size=\"14.00\">SurrVal &lt;= 0.0</text>\n<text text-anchor=\"middle\" x=\"540.5\" y=\"-94.8\" font-family=\"Helvetica,sans-Serif\" font-size=\"14.00\">samples = 30.3%</text>\n<text text-anchor=\"middle\" x=\"540.5\" y=\"-79.8\" font-family=\"Helvetica,sans-Serif\" font-size=\"14.00\">value = [0.619, 0.381]</text>\n</g>\n<!-- 36&#45;&gt;152 -->\n<g id=\"edge10\" class=\"edge\">\n<title>36&#45;&gt;152</title>\n<path fill=\"none\" stroke=\"black\" d=\"M424.11,-160.87C442.58,-151.13 463.78,-139.95 482.99,-129.82\"/>\n<polygon fill=\"black\" stroke=\"black\" points=\"484.74,-132.86 491.95,-125.1 481.47,-126.67 484.74,-132.86\"/>\n</g>\n<!-- 38 -->\n<g id=\"node9\" class=\"node\">\n<title>38</title>\n<polygon fill=\"#c0c0c0\" stroke=\"black\" points=\"371.5,-36 317.5,-36 317.5,0 371.5,0 371.5,-36\"/>\n<text text-anchor=\"middle\" x=\"344.5\" y=\"-14.3\" font-family=\"Helvetica,sans-Serif\" font-size=\"14.00\">(...)</text>\n</g>\n<!-- 37&#45;&gt;38 -->\n<g id=\"edge8\" class=\"edge\">\n<title>37&#45;&gt;38</title>\n<path fill=\"none\" stroke=\"black\" d=\"M365.35,-71.8C362.05,-63.44 358.38,-54.15 355.05,-45.72\"/>\n<polygon fill=\"black\" stroke=\"black\" points=\"358.27,-44.35 351.34,-36.33 351.76,-46.92 358.27,-44.35\"/>\n</g>\n<!-- 95 -->\n<g id=\"node10\" class=\"node\">\n<title>95</title>\n<polygon fill=\"#c0c0c0\" stroke=\"black\" points=\"443.5,-36 389.5,-36 389.5,0 443.5,0 443.5,-36\"/>\n<text text-anchor=\"middle\" x=\"416.5\" y=\"-14.3\" font-family=\"Helvetica,sans-Serif\" font-size=\"14.00\">(...)</text>\n</g>\n<!-- 37&#45;&gt;95 -->\n<g id=\"edge9\" class=\"edge\">\n<title>37&#45;&gt;95</title>\n<path fill=\"none\" stroke=\"black\" d=\"M388.92,-71.8C393.34,-63.35 398.25,-53.95 402.69,-45.45\"/>\n<polygon fill=\"black\" stroke=\"black\" points=\"405.92,-46.81 407.45,-36.33 399.72,-43.57 405.92,-46.81\"/>\n</g>\n<!-- 153 -->\n<g id=\"node12\" class=\"node\">\n<title>153</title>\n<polygon fill=\"#c0c0c0\" stroke=\"black\" points=\"525.5,-36 471.5,-36 471.5,0 525.5,0 525.5,-36\"/>\n<text text-anchor=\"middle\" x=\"498.5\" y=\"-14.3\" font-family=\"Helvetica,sans-Serif\" font-size=\"14.00\">(...)</text>\n</g>\n<!-- 152&#45;&gt;153 -->\n<g id=\"edge11\" class=\"edge\">\n<title>152&#45;&gt;153</title>\n<path fill=\"none\" stroke=\"black\" d=\"M526.75,-71.8C522.18,-63.26 517.09,-53.75 512.5,-45.17\"/>\n<polygon fill=\"black\" stroke=\"black\" points=\"515.58,-43.5 507.77,-36.33 509.4,-46.8 515.58,-43.5\"/>\n</g>\n<!-- 168 -->\n<g id=\"node13\" class=\"node\">\n<title>168</title>\n<polygon fill=\"#c0c0c0\" stroke=\"black\" points=\"597.5,-36 543.5,-36 543.5,0 597.5,0 597.5,-36\"/>\n<text text-anchor=\"middle\" x=\"570.5\" y=\"-14.3\" font-family=\"Helvetica,sans-Serif\" font-size=\"14.00\">(...)</text>\n</g>\n<!-- 152&#45;&gt;168 -->\n<g id=\"edge12\" class=\"edge\">\n<title>152&#45;&gt;168</title>\n<path fill=\"none\" stroke=\"black\" d=\"M550.32,-71.8C553.52,-63.44 557.07,-54.15 560.29,-45.72\"/>\n<polygon fill=\"black\" stroke=\"black\" points=\"563.58,-46.92 563.88,-36.33 557.04,-44.42 563.58,-46.92\"/>\n</g>\n</g>\n</svg>\n",
            "text/plain": [
              "<graphviz.sources.Source at 0x7d5ce6feb670>"
            ]
          },
          "metadata": {}
        }
      ]
    },
    {
      "cell_type": "code",
      "execution_count": null,
      "metadata": {
        "colab": {
          "base_uri": "https://localhost:8080/",
          "height": 472
        },
        "id": "kcywCvxwePZE",
        "outputId": "96250012-a465-4401-dbcd-587a884030b8"
      },
      "outputs": [
        {
          "output_type": "display_data",
          "data": {
            "text/plain": [
              "<Figure size 640x480 with 1 Axes>"
            ],
            "image/png": "[encoded data removed]"
          },
          "metadata": {}
        }
      ],
      "source": [
        "# Compute precision and recall values\n",
        "precision, recall, thresholds = precision_recall_curve(y_test, y_probs)\n",
        "\n",
        "# Plot the Precision-Recall curve\n",
        "plt.figure()\n",
        "plt.plot(recall, precision, marker='.')\n",
        "plt.xlabel('Recall')\n",
        "plt.ylabel('Precision')\n",
        "plt.title('Precision-Recall Curve')\n",
        "plt.grid(True)\n",
        "plt.show()"
      ]
    },
    {
      "cell_type": "code",
      "execution_count": null,
      "metadata": {
        "colab": {
          "base_uri": "https://localhost:8080/",
          "height": 472
        },
        "id": "-ojGVO-ZePZF",
        "outputId": "560c43ba-c944-48be-e528-e815518ecd1b"
      },
      "outputs": [
        {
          "output_type": "display_data",
          "data": {
            "text/plain": [
              "<Figure size 640x480 with 1 Axes>"
            ],
            "image/png": "[encoded data removed]"
          },
          "metadata": {}
        }
      ],
      "source": [
        "# Compute ROC curve and ROC area\n",
        "fpr, tpr, _ = roc_curve(y_test, y_test_pred)\n",
        "roc_auc = auc(fpr, tpr)\n",
        "\n",
        "plt.figure()\n",
        "plt.plot(fpr, tpr, color='#0075C9', lw=2, label=f'ROC curve (area = {roc_auc:.3f})')\n",
        "plt.plot([0, 1], [0, 1], color='grey', lw=2, linestyle='--')\n",
        "plt.xlim([0.0, 1.0])\n",
        "plt.ylim([0.0, 1.0])\n",
        "plt.xlabel('False Positive Rate')\n",
        "plt.ylabel('True Positive Rate')\n",
        "plt.title('Receiver Operating Characteristic')\n",
        "plt.legend(loc=\"lower right\")\n",
        "plt.show()"
      ]
    },
    {
      "cell_type": "code",
      "execution_count": null,
      "metadata": {
        "id": "kK1zbEp-ePZF"
      },
      "outputs": [],
      "source": []
    }
  ],
  "metadata": {
    "kernelspec": {
      "display_name": "Python 3",
      "language": "python",
      "name": "python3"
    },
    "language_info": {
      "codemirror_mode": {
        "name": "ipython",
        "version": 3
      },
      "file_extension": ".py",
      "mimetype": "text/x-python",
      "name": "python",
      "nbconvert_exporter": "python",
      "pygments_lexer": "ipython3",
      "version": "3.11.8"
    },
    "colab": {
      "provenance": []
    }
  },
  "nbformat": 4,
  "nbformat_minor": 0
}